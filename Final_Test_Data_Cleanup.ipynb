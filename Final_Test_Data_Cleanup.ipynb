{
 "cells": [
  {
   "cell_type": "markdown",
   "metadata": {},
   "source": [
    "# Claim Approval Process\n"
   ]
  },
  {
   "cell_type": "code",
   "execution_count": 7,
   "metadata": {},
   "outputs": [],
   "source": [
    "# To ignore any warnings\n",
    "import warnings\n",
    "warnings.filterwarnings('ignore')\n",
    "#To run all the commands in a same shell\n",
    "from IPython.core.interactiveshell import InteractiveShell\n",
    "InteractiveShell.ast_node_interactivity = \"all\"\n",
    "from matplotlib import pyplot\n",
    "import numpy as np\n",
    "import pandas as pd\n",
    "from scipy.stats import norm\n",
    "# For plotting graphs\n",
    "import matplotlib.pyplot as plt\n",
    "\n",
    "%matplotlib inline\n",
    "# For data visualization\n",
    "import seaborn as sns\n",
    "#for different algorithms\n",
    "from sklearn.utils import shuffle\n",
    "#from factor_analyzer import FactorAnalyzer\n",
    "#from sklearn import decomposition, preprocessing\n",
    "from sklearn.model_selection import cross_val_score\n",
    "from sklearn.preprocessing import scale\n",
    "from sklearn.model_selection import train_test_split\n",
    "from sklearn.model_selection import cross_val_score\n",
    "from sklearn.metrics import accuracy_score\n",
    "from sklearn.metrics import classification_report\n",
    "from sklearn.metrics import confusion_matrix\n",
    "from sklearn.metrics import roc_curve\n",
    "from sklearn.metrics import roc_auc_score\n",
    "from sklearn.model_selection import GridSearchCV\n",
    "from sklearn.linear_model import LogisticRegression\n",
    "from sklearn.svm import SVC\n",
    "from sklearn.neighbors import KNeighborsClassifier\n",
    "from sklearn.tree import DecisionTreeClassifier, export_graphviz\n",
    "from sklearn.ensemble import RandomForestClassifier\n",
    "from sklearn.ensemble import GradientBoostingClassifier\n",
    "from sklearn.ensemble import AdaBoostClassifier"
   ]
  },
  {
   "cell_type": "markdown",
   "metadata": {},
   "source": [
    "# Import Dataset"
   ]
  },
  {
   "cell_type": "code",
   "execution_count": 10,
   "metadata": {
    "scrolled": true
   },
   "outputs": [],
   "source": [
    "df= pd.read_csv(r'C:/Users/Pavan/CSV_FILES_PYTHON/Test data Set_2020-02-17.csv')\n"
   ]
  },
  {
   "cell_type": "code",
   "execution_count": 11,
   "metadata": {},
   "outputs": [
    {
     "data": {
      "text/plain": [
       "ClaimID                0\n",
       "AGMID                  0\n",
       "LOB                    0\n",
       "State             162701\n",
       "ProgramCode            0\n",
       "PlanCode               0\n",
       "VehicleMake         1482\n",
       "VehicleModel        1671\n",
       "VehicleYear            0\n",
       "TermMonth              0\n",
       "TermMiles              0\n",
       "ComponentCode          0\n",
       "ComponentSet           2\n",
       "ContractStatus         0\n",
       "AgeAtClaim             0\n",
       "AgeAtCancel            0\n",
       "ClaimDate              0\n",
       "PaidDate            5454\n",
       "AgeofPayment           0\n",
       "dtype: int64"
      ]
     },
     "execution_count": 11,
     "metadata": {},
     "output_type": "execute_result"
    }
   ],
   "source": [
    "#df.Claimstatus=df.Claimstatus.map({'C':1,'D':0}) \n",
    "df.isnull().sum()"
   ]
  },
  {
   "cell_type": "code",
   "execution_count": 12,
   "metadata": {},
   "outputs": [],
   "source": [
    "df.drop_duplicates(['ClaimID', 'ComponentSet'],keep= 'last', inplace = True)\n"
   ]
  },
  {
   "cell_type": "code",
   "execution_count": 13,
   "metadata": {},
   "outputs": [],
   "source": [
    "#df.to_csv('C:/Users/Pavan/Documents/DATAEFG/Out_RESULT/T8020.csv',index=False)"
   ]
  },
  {
   "cell_type": "code",
   "execution_count": 14,
   "metadata": {},
   "outputs": [
    {
     "data": {
      "text/plain": [
       "Index(['ClaimID', 'AGMID', 'LOB', 'State', 'ProgramCode', 'PlanCode',\n",
       "       'VehicleMake', 'VehicleModel', 'VehicleYear', 'TermMonth', 'TermMiles',\n",
       "       'ComponentCode', 'ComponentSet', 'ContractStatus', 'AgeAtClaim',\n",
       "       'AgeAtCancel', 'ClaimDate', 'PaidDate', 'AgeofPayment'],\n",
       "      dtype='object')"
      ]
     },
     "execution_count": 14,
     "metadata": {},
     "output_type": "execute_result"
    }
   ],
   "source": [
    "df.columns"
   ]
  },
  {
   "cell_type": "code",
   "execution_count": 15,
   "metadata": {},
   "outputs": [
    {
     "data": {
      "text/plain": [
       "State           119195\n",
       "VehicleMake        782\n",
       "VehicleModel       901\n",
       "ComponentSet         2\n",
       "PaidDate          4054\n",
       "dtype: int64"
      ]
     },
     "execution_count": 15,
     "metadata": {},
     "output_type": "execute_result"
    }
   ],
   "source": [
    "nulls = df.isnull().sum()\n",
    "nulls[nulls > 0]"
   ]
  },
  {
   "cell_type": "code",
   "execution_count": 16,
   "metadata": {},
   "outputs": [
    {
     "name": "stdout",
     "output_type": "stream",
     "text": [
      "<class 'pandas.core.frame.DataFrame'>\n",
      "Int64Index: 123439 entries, 2 to 169936\n",
      "Data columns (total 19 columns):\n",
      "ClaimID           123439 non-null int64\n",
      "AGMID             123439 non-null int64\n",
      "LOB               123439 non-null object\n",
      "State             4244 non-null object\n",
      "ProgramCode       123439 non-null object\n",
      "PlanCode          123439 non-null object\n",
      "VehicleMake       122657 non-null object\n",
      "VehicleModel      122538 non-null object\n",
      "VehicleYear       123439 non-null int64\n",
      "TermMonth         123439 non-null int64\n",
      "TermMiles         123439 non-null int64\n",
      "ComponentCode     123439 non-null object\n",
      "ComponentSet      123437 non-null object\n",
      "ContractStatus    123439 non-null object\n",
      "AgeAtClaim        123439 non-null int64\n",
      "AgeAtCancel       123439 non-null int64\n",
      "ClaimDate         123439 non-null int64\n",
      "PaidDate          119385 non-null float64\n",
      "AgeofPayment      123439 non-null int64\n",
      "dtypes: float64(1), int64(9), object(9)\n",
      "memory usage: 18.8+ MB\n"
     ]
    }
   ],
   "source": [
    "df.info()"
   ]
  },
  {
   "cell_type": "code",
   "execution_count": 17,
   "metadata": {},
   "outputs": [],
   "source": [
    "#df.to_csv('C:/Users/Pavan/Documents/DATAEFG/Out_RESULT/traint_NEW.csv',index=False)"
   ]
  },
  {
   "cell_type": "code",
   "execution_count": 18,
   "metadata": {},
   "outputs": [
    {
     "data": {
      "text/plain": [
       "(123439, 19)"
      ]
     },
     "execution_count": 18,
     "metadata": {},
     "output_type": "execute_result"
    }
   ],
   "source": [
    "df.shape"
   ]
  },
  {
   "cell_type": "code",
   "execution_count": 19,
   "metadata": {},
   "outputs": [],
   "source": [
    "from sklearn.utils import shuffle\n",
    "df = shuffle(df)"
   ]
  },
  {
   "cell_type": "code",
   "execution_count": 20,
   "metadata": {},
   "outputs": [
    {
     "data": {
      "text/plain": [
       "(Index(['ClaimID', 'AGMID', 'LOB', 'State', 'ProgramCode', 'PlanCode',\n",
       "        'VehicleMake', 'VehicleModel', 'VehicleYear', 'TermMonth', 'TermMiles',\n",
       "        'ComponentCode', 'ComponentSet', 'ContractStatus', 'AgeAtClaim',\n",
       "        'AgeAtCancel', 'ClaimDate', 'PaidDate', 'AgeofPayment'],\n",
       "       dtype='object'), (123439, 19))"
      ]
     },
     "execution_count": 20,
     "metadata": {},
     "output_type": "execute_result"
    }
   ],
   "source": [
    "df.columns,df.shape"
   ]
  },
  {
   "cell_type": "code",
   "execution_count": 21,
   "metadata": {},
   "outputs": [],
   "source": [
    "#df.to_csv('C:/Users/Pavan/Documents/DATAEFG/Out_RESULT/qwe.csv',index=False)"
   ]
  },
  {
   "cell_type": "markdown",
   "metadata": {},
   "source": [
    "# Missing values at individual variable level"
   ]
  },
  {
   "cell_type": "code",
   "execution_count": 22,
   "metadata": {},
   "outputs": [],
   "source": [
    "#test[['ClaimID','ClaimStatus']].to_csv('C:/Users/Pavan/Documents/DATAEFG/Out_RESULT/Test_NEW.csv',index=False)"
   ]
  },
  {
   "cell_type": "code",
   "execution_count": 23,
   "metadata": {},
   "outputs": [
    {
     "data": {
      "text/plain": [
       "ClaimID                0\n",
       "AGMID                  0\n",
       "LOB                    0\n",
       "State             119195\n",
       "ProgramCode            0\n",
       "PlanCode               0\n",
       "VehicleMake          782\n",
       "VehicleModel         901\n",
       "VehicleYear            0\n",
       "TermMonth              0\n",
       "TermMiles              0\n",
       "ComponentCode          0\n",
       "ComponentSet           2\n",
       "ContractStatus         0\n",
       "AgeAtClaim             0\n",
       "AgeAtCancel            0\n",
       "ClaimDate              0\n",
       "PaidDate            4054\n",
       "AgeofPayment           0\n",
       "dtype: int64"
      ]
     },
     "execution_count": 23,
     "metadata": {},
     "output_type": "execute_result"
    }
   ],
   "source": [
    "#shows the missing values at individual variable level\n",
    "\n",
    "#df.isnull().sum() --> works same as below code\n",
    "df.apply(lambda x: sum(x.isnull()), axis=0)"
   ]
  },
  {
   "cell_type": "code",
   "execution_count": 24,
   "metadata": {},
   "outputs": [
    {
     "data": {
      "text/plain": [
       "124934"
      ]
     },
     "execution_count": 24,
     "metadata": {},
     "output_type": "execute_result"
    }
   ],
   "source": [
    "#shows the total number of missing values\n",
    "df.isnull().sum().sum()"
   ]
  },
  {
   "cell_type": "code",
   "execution_count": 25,
   "metadata": {},
   "outputs": [
    {
     "data": {
      "text/plain": [
       "State    0.965619\n",
       "dtype: float64"
      ]
     },
     "execution_count": 25,
     "metadata": {},
     "output_type": "execute_result"
    }
   ],
   "source": [
    "#variables which we can remove\n",
    "var_null_pc = df.isnull().sum(axis=0).sort_values( ascending=False)/float(len(df) )\n",
    "var_null_pc[ var_null_pc > 0.75 ]"
   ]
  },
  {
   "cell_type": "code",
   "execution_count": 26,
   "metadata": {},
   "outputs": [
    {
     "data": {
      "text/html": [
       "<div>\n",
       "<style scoped>\n",
       "    .dataframe tbody tr th:only-of-type {\n",
       "        vertical-align: middle;\n",
       "    }\n",
       "\n",
       "    .dataframe tbody tr th {\n",
       "        vertical-align: top;\n",
       "    }\n",
       "\n",
       "    .dataframe thead th {\n",
       "        text-align: right;\n",
       "    }\n",
       "</style>\n",
       "<table border=\"1\" class=\"dataframe\">\n",
       "  <thead>\n",
       "    <tr style=\"text-align: right;\">\n",
       "      <th></th>\n",
       "      <th>ClaimID</th>\n",
       "      <th>AGMID</th>\n",
       "      <th>LOB</th>\n",
       "      <th>ProgramCode</th>\n",
       "      <th>PlanCode</th>\n",
       "      <th>VehicleMake</th>\n",
       "      <th>VehicleModel</th>\n",
       "      <th>VehicleYear</th>\n",
       "      <th>TermMonth</th>\n",
       "      <th>TermMiles</th>\n",
       "      <th>ComponentCode</th>\n",
       "      <th>ComponentSet</th>\n",
       "      <th>ContractStatus</th>\n",
       "      <th>AgeAtClaim</th>\n",
       "      <th>AgeAtCancel</th>\n",
       "      <th>ClaimDate</th>\n",
       "      <th>PaidDate</th>\n",
       "      <th>AgeofPayment</th>\n",
       "    </tr>\n",
       "  </thead>\n",
       "  <tbody>\n",
       "    <tr>\n",
       "      <td>25825</td>\n",
       "      <td>93074447</td>\n",
       "      <td>3539113</td>\n",
       "      <td>Dealer Services</td>\n",
       "      <td>MAP18</td>\n",
       "      <td>HMBRZU</td>\n",
       "      <td>JEEP</td>\n",
       "      <td>LIBERTY LIMITED</td>\n",
       "      <td>2002</td>\n",
       "      <td>24</td>\n",
       "      <td>30000</td>\n",
       "      <td>CB100</td>\n",
       "      <td>CB</td>\n",
       "      <td>EXPIRED</td>\n",
       "      <td>20</td>\n",
       "      <td>0</td>\n",
       "      <td>20140131</td>\n",
       "      <td>20140311.0</td>\n",
       "      <td>0</td>\n",
       "    </tr>\n",
       "    <tr>\n",
       "      <td>125328</td>\n",
       "      <td>93940127</td>\n",
       "      <td>5307321</td>\n",
       "      <td>Agency Services</td>\n",
       "      <td>MP002</td>\n",
       "      <td>MAPPREMN</td>\n",
       "      <td>KIA</td>\n",
       "      <td>SOUL</td>\n",
       "      <td>2011</td>\n",
       "      <td>48</td>\n",
       "      <td>50000</td>\n",
       "      <td>EL12100</td>\n",
       "      <td>EL</td>\n",
       "      <td>INFORCE</td>\n",
       "      <td>18</td>\n",
       "      <td>0</td>\n",
       "      <td>20180102</td>\n",
       "      <td>20180104.0</td>\n",
       "      <td>0</td>\n",
       "    </tr>\n",
       "    <tr>\n",
       "      <td>113722</td>\n",
       "      <td>94255664</td>\n",
       "      <td>5858910</td>\n",
       "      <td>Agency Services</td>\n",
       "      <td>MP002</td>\n",
       "      <td>MAPPREMN</td>\n",
       "      <td>BMW</td>\n",
       "      <td>328I</td>\n",
       "      <td>2013</td>\n",
       "      <td>60</td>\n",
       "      <td>60000</td>\n",
       "      <td>CF002</td>\n",
       "      <td>CF</td>\n",
       "      <td>CANCELLED</td>\n",
       "      <td>19</td>\n",
       "      <td>20</td>\n",
       "      <td>20190716</td>\n",
       "      <td>20190726.0</td>\n",
       "      <td>0</td>\n",
       "    </tr>\n",
       "    <tr>\n",
       "      <td>60703</td>\n",
       "      <td>93396676</td>\n",
       "      <td>4405566</td>\n",
       "      <td>Dealer Services</td>\n",
       "      <td>SFT01</td>\n",
       "      <td>SFTWPN60</td>\n",
       "      <td>CHEV</td>\n",
       "      <td>SILVERADO C1500 LTZ</td>\n",
       "      <td>2014</td>\n",
       "      <td>60</td>\n",
       "      <td>9999999</td>\n",
       "      <td>TIRE1</td>\n",
       "      <td>TI</td>\n",
       "      <td>CANCELLED</td>\n",
       "      <td>13</td>\n",
       "      <td>19</td>\n",
       "      <td>20150917</td>\n",
       "      <td>20150917.0</td>\n",
       "      <td>0</td>\n",
       "    </tr>\n",
       "    <tr>\n",
       "      <td>169321</td>\n",
       "      <td>94261557</td>\n",
       "      <td>5726534</td>\n",
       "      <td>Dealer Services</td>\n",
       "      <td>SFT01</td>\n",
       "      <td>SFTWPN60</td>\n",
       "      <td>CHEV</td>\n",
       "      <td>SILVERADO K1500 LT</td>\n",
       "      <td>2017</td>\n",
       "      <td>60</td>\n",
       "      <td>9999999</td>\n",
       "      <td>DISPO01</td>\n",
       "      <td>DI</td>\n",
       "      <td>INFORCE</td>\n",
       "      <td>23</td>\n",
       "      <td>0</td>\n",
       "      <td>20190725</td>\n",
       "      <td>20190729.0</td>\n",
       "      <td>0</td>\n",
       "    </tr>\n",
       "    <tr>\n",
       "      <td>...</td>\n",
       "      <td>...</td>\n",
       "      <td>...</td>\n",
       "      <td>...</td>\n",
       "      <td>...</td>\n",
       "      <td>...</td>\n",
       "      <td>...</td>\n",
       "      <td>...</td>\n",
       "      <td>...</td>\n",
       "      <td>...</td>\n",
       "      <td>...</td>\n",
       "      <td>...</td>\n",
       "      <td>...</td>\n",
       "      <td>...</td>\n",
       "      <td>...</td>\n",
       "      <td>...</td>\n",
       "      <td>...</td>\n",
       "      <td>...</td>\n",
       "      <td>...</td>\n",
       "    </tr>\n",
       "    <tr>\n",
       "      <td>25895</td>\n",
       "      <td>93113274</td>\n",
       "      <td>4111551</td>\n",
       "      <td>Call Center</td>\n",
       "      <td>TCH02</td>\n",
       "      <td>TCELTDLX</td>\n",
       "      <td>FORD</td>\n",
       "      <td>FUSION SE</td>\n",
       "      <td>2010</td>\n",
       "      <td>48</td>\n",
       "      <td>50000</td>\n",
       "      <td>CF002</td>\n",
       "      <td>CF</td>\n",
       "      <td>EXPIRED</td>\n",
       "      <td>4</td>\n",
       "      <td>0</td>\n",
       "      <td>20140508</td>\n",
       "      <td>20140530.0</td>\n",
       "      <td>0</td>\n",
       "    </tr>\n",
       "    <tr>\n",
       "      <td>6514</td>\n",
       "      <td>92685339</td>\n",
       "      <td>2829690</td>\n",
       "      <td>Call Center</td>\n",
       "      <td>TCH01</td>\n",
       "      <td>TCDLXU</td>\n",
       "      <td>CHEV</td>\n",
       "      <td>EQUINOX LS</td>\n",
       "      <td>2005</td>\n",
       "      <td>48</td>\n",
       "      <td>50000</td>\n",
       "      <td>SS100</td>\n",
       "      <td>SS</td>\n",
       "      <td>CANCELLED</td>\n",
       "      <td>4</td>\n",
       "      <td>12</td>\n",
       "      <td>20110125</td>\n",
       "      <td>20110125.0</td>\n",
       "      <td>0</td>\n",
       "    </tr>\n",
       "    <tr>\n",
       "      <td>16385</td>\n",
       "      <td>674177</td>\n",
       "      <td>893980</td>\n",
       "      <td>Agency Services</td>\n",
       "      <td>MAP17</td>\n",
       "      <td>HMSVRU</td>\n",
       "      <td>DODG</td>\n",
       "      <td>96 DODGE RAM 1500</td>\n",
       "      <td>1996</td>\n",
       "      <td>36</td>\n",
       "      <td>36000</td>\n",
       "      <td>AT610</td>\n",
       "      <td>AT</td>\n",
       "      <td>EXPIRED</td>\n",
       "      <td>10</td>\n",
       "      <td>0</td>\n",
       "      <td>20030930</td>\n",
       "      <td>20031031.0</td>\n",
       "      <td>0</td>\n",
       "    </tr>\n",
       "    <tr>\n",
       "      <td>135080</td>\n",
       "      <td>94256710</td>\n",
       "      <td>5497102</td>\n",
       "      <td>Call Center</td>\n",
       "      <td>TCH31</td>\n",
       "      <td>TOAPWRCU</td>\n",
       "      <td>DODG</td>\n",
       "      <td>RAM 3500 QUAD ST/SLT</td>\n",
       "      <td>2005</td>\n",
       "      <td>60</td>\n",
       "      <td>100000</td>\n",
       "      <td>CF002</td>\n",
       "      <td>CF</td>\n",
       "      <td>INFORCE</td>\n",
       "      <td>30</td>\n",
       "      <td>0</td>\n",
       "      <td>20190718</td>\n",
       "      <td>20190726.0</td>\n",
       "      <td>0</td>\n",
       "    </tr>\n",
       "    <tr>\n",
       "      <td>89272</td>\n",
       "      <td>93739476</td>\n",
       "      <td>4953093</td>\n",
       "      <td>Dealer Services</td>\n",
       "      <td>VSC01</td>\n",
       "      <td>HPREMN</td>\n",
       "      <td>HYUN</td>\n",
       "      <td>TUCSON LIMITED/SPORT AND/</td>\n",
       "      <td>2016</td>\n",
       "      <td>120</td>\n",
       "      <td>100000</td>\n",
       "      <td>AC70225</td>\n",
       "      <td>AC</td>\n",
       "      <td>INFORCE</td>\n",
       "      <td>16</td>\n",
       "      <td>0</td>\n",
       "      <td>20170209</td>\n",
       "      <td>20170217.0</td>\n",
       "      <td>0</td>\n",
       "    </tr>\n",
       "  </tbody>\n",
       "</table>\n",
       "<p>123439 rows × 18 columns</p>\n",
       "</div>"
      ],
      "text/plain": [
       "         ClaimID    AGMID              LOB ProgramCode  \\\n",
       "25825   93074447  3539113  Dealer Services       MAP18   \n",
       "125328  93940127  5307321  Agency Services       MP002   \n",
       "113722  94255664  5858910  Agency Services       MP002   \n",
       "60703   93396676  4405566  Dealer Services       SFT01   \n",
       "169321  94261557  5726534  Dealer Services       SFT01   \n",
       "...          ...      ...              ...         ...   \n",
       "25895   93113274  4111551      Call Center       TCH02   \n",
       "6514    92685339  2829690      Call Center       TCH01   \n",
       "16385     674177   893980  Agency Services       MAP17   \n",
       "135080  94256710  5497102      Call Center       TCH31   \n",
       "89272   93739476  4953093  Dealer Services       VSC01   \n",
       "\n",
       "                                        PlanCode VehicleMake  \\\n",
       "25825   HMBRZU                                          JEEP   \n",
       "125328  MAPPREMN                                         KIA   \n",
       "113722  MAPPREMN                                         BMW   \n",
       "60703   SFTWPN60                                        CHEV   \n",
       "169321  SFTWPN60                                        CHEV   \n",
       "...                                          ...         ...   \n",
       "25895   TCELTDLX                                        FORD   \n",
       "6514    TCDLXU                                          CHEV   \n",
       "16385   HMSVRU                                          DODG   \n",
       "135080  TOAPWRCU                                        DODG   \n",
       "89272   HPREMN                                          HYUN   \n",
       "\n",
       "                     VehicleModel  VehicleYear  TermMonth  TermMiles  \\\n",
       "25825             LIBERTY LIMITED         2002         24      30000   \n",
       "125328                       SOUL         2011         48      50000   \n",
       "113722                       328I         2013         60      60000   \n",
       "60703         SILVERADO C1500 LTZ         2014         60    9999999   \n",
       "169321         SILVERADO K1500 LT         2017         60    9999999   \n",
       "...                           ...          ...        ...        ...   \n",
       "25895                   FUSION SE         2010         48      50000   \n",
       "6514                   EQUINOX LS         2005         48      50000   \n",
       "16385           96 DODGE RAM 1500         1996         36      36000   \n",
       "135080       RAM 3500 QUAD ST/SLT         2005         60     100000   \n",
       "89272   TUCSON LIMITED/SPORT AND/         2016        120     100000   \n",
       "\n",
       "       ComponentCode ComponentSet                            ContractStatus  \\\n",
       "25825          CB100           CB  EXPIRED                                    \n",
       "125328       EL12100           EL  INFORCE                                    \n",
       "113722         CF002           CF                                 CANCELLED   \n",
       "60703          TIRE1           TI  CANCELLED                                  \n",
       "169321       DISPO01           DI  INFORCE                                    \n",
       "...              ...          ...                                       ...   \n",
       "25895          CF002           CF  EXPIRED                                    \n",
       "6514           SS100           SS  CANCELLED                                  \n",
       "16385          AT610           AT  EXPIRED                                    \n",
       "135080         CF002           CF  INFORCE                                    \n",
       "89272        AC70225           AC  INFORCE                                    \n",
       "\n",
       "        AgeAtClaim  AgeAtCancel  ClaimDate    PaidDate  AgeofPayment  \n",
       "25825           20            0   20140131  20140311.0             0  \n",
       "125328          18            0   20180102  20180104.0             0  \n",
       "113722          19           20   20190716  20190726.0             0  \n",
       "60703           13           19   20150917  20150917.0             0  \n",
       "169321          23            0   20190725  20190729.0             0  \n",
       "...            ...          ...        ...         ...           ...  \n",
       "25895            4            0   20140508  20140530.0             0  \n",
       "6514             4           12   20110125  20110125.0             0  \n",
       "16385           10            0   20030930  20031031.0             0  \n",
       "135080          30            0   20190718  20190726.0             0  \n",
       "89272           16            0   20170209  20170217.0             0  \n",
       "\n",
       "[123439 rows x 18 columns]"
      ]
     },
     "execution_count": 26,
     "metadata": {},
     "output_type": "execute_result"
    },
    {
     "data": {
      "text/html": [
       "<div>\n",
       "<style scoped>\n",
       "    .dataframe tbody tr th:only-of-type {\n",
       "        vertical-align: middle;\n",
       "    }\n",
       "\n",
       "    .dataframe tbody tr th {\n",
       "        vertical-align: top;\n",
       "    }\n",
       "\n",
       "    .dataframe thead th {\n",
       "        text-align: right;\n",
       "    }\n",
       "</style>\n",
       "<table border=\"1\" class=\"dataframe\">\n",
       "  <thead>\n",
       "    <tr style=\"text-align: right;\">\n",
       "      <th></th>\n",
       "      <th>ClaimID</th>\n",
       "      <th>AGMID</th>\n",
       "      <th>LOB</th>\n",
       "      <th>State</th>\n",
       "      <th>ProgramCode</th>\n",
       "      <th>PlanCode</th>\n",
       "      <th>VehicleMake</th>\n",
       "      <th>VehicleModel</th>\n",
       "      <th>VehicleYear</th>\n",
       "      <th>TermMonth</th>\n",
       "      <th>TermMiles</th>\n",
       "      <th>ComponentCode</th>\n",
       "      <th>ComponentSet</th>\n",
       "      <th>ContractStatus</th>\n",
       "      <th>AgeAtClaim</th>\n",
       "      <th>AgeAtCancel</th>\n",
       "      <th>ClaimDate</th>\n",
       "      <th>PaidDate</th>\n",
       "      <th>AgeofPayment</th>\n",
       "    </tr>\n",
       "  </thead>\n",
       "  <tbody>\n",
       "  </tbody>\n",
       "</table>\n",
       "</div>"
      ],
      "text/plain": [
       "Empty DataFrame\n",
       "Columns: [ClaimID, AGMID, LOB, State, ProgramCode, PlanCode, VehicleMake, VehicleModel, VehicleYear, TermMonth, TermMiles, ComponentCode, ComponentSet, ContractStatus, AgeAtClaim, AgeAtCancel, ClaimDate, PaidDate, AgeofPayment]\n",
       "Index: []"
      ]
     },
     "execution_count": 26,
     "metadata": {},
     "output_type": "execute_result"
    }
   ],
   "source": [
    "df.drop( var_null_pc[ var_null_pc > 0.75 ].index, axis = 1,  ) \n",
    "df.dropna( axis = 0, thresh = 30, )"
   ]
  },
  {
   "cell_type": "markdown",
   "metadata": {},
   "source": [
    "# COLUMNS REMOVED"
   ]
  },
  {
   "cell_type": "code",
   "execution_count": 27,
   "metadata": {},
   "outputs": [],
   "source": [
    "#The Variables which can be removed are -,\n",
    "vars_to_be_removed = [ 'ClaimDate', 'PaidDate', 'AGMID',  'State','AgeofPayment','AgeAtCancel',\n",
    " 'AgeAtClaim','ComponentCode'\n",
    " ]\n",
    "\n",
    "df.drop(vars_to_be_removed , axis = 1, inplace=True )#inplace=True"
   ]
  },
  {
   "cell_type": "code",
   "execution_count": 28,
   "metadata": {
    "scrolled": true
   },
   "outputs": [
    {
     "data": {
      "text/plain": [
       "['ClaimID',\n",
       " 'LOB',\n",
       " 'ProgramCode',\n",
       " 'PlanCode',\n",
       " 'VehicleMake',\n",
       " 'VehicleModel',\n",
       " 'VehicleYear',\n",
       " 'TermMonth',\n",
       " 'TermMiles',\n",
       " 'ComponentSet',\n",
       " 'ContractStatus']"
      ]
     },
     "execution_count": 28,
     "metadata": {},
     "output_type": "execute_result"
    }
   ],
   "source": [
    "#shows the variable names present in the dataframe\n",
    "list(df.columns.values)"
   ]
  },
  {
   "cell_type": "code",
   "execution_count": 29,
   "metadata": {},
   "outputs": [
    {
     "data": {
      "text/plain": [
       "Index(['ClaimID', 'LOB', 'ProgramCode', 'PlanCode', 'VehicleMake',\n",
       "       'VehicleModel', 'VehicleYear', 'TermMonth', 'TermMiles', 'ComponentSet',\n",
       "       'ContractStatus'],\n",
       "      dtype='object')"
      ]
     },
     "execution_count": 29,
     "metadata": {},
     "output_type": "execute_result"
    }
   ],
   "source": [
    "df.columns"
   ]
  },
  {
   "cell_type": "code",
   "execution_count": 30,
   "metadata": {},
   "outputs": [
    {
     "name": "stdout",
     "output_type": "stream",
     "text": [
      "There are 7 categorical variables\n"
     ]
    }
   ],
   "source": [
    "# find categorical variables\n",
    "categorical = [var for var in df.columns if df[var].dtype=='O']\n",
    "print('There are {} categorical variables'.format(len(categorical)))"
   ]
  },
  {
   "cell_type": "code",
   "execution_count": 31,
   "metadata": {},
   "outputs": [
    {
     "name": "stdout",
     "output_type": "stream",
     "text": [
      "There are 4 numerical variables\n"
     ]
    }
   ],
   "source": [
    "\n",
    "# find numerical variables\n",
    "numerical = [var for var in df.columns if df[var].dtype!='O']\n",
    "print('There are {} numerical variables'.format(len(numerical)))"
   ]
  },
  {
   "cell_type": "code",
   "execution_count": 32,
   "metadata": {},
   "outputs": [
    {
     "data": {
      "text/plain": [
       "Index(['LOB', 'ProgramCode', 'PlanCode', 'VehicleMake', 'VehicleModel',\n",
       "       'ComponentSet', 'ContractStatus'],\n",
       "      dtype='object')"
      ]
     },
     "execution_count": 32,
     "metadata": {},
     "output_type": "execute_result"
    }
   ],
   "source": [
    "df[categorical].columns"
   ]
  },
  {
   "cell_type": "code",
   "execution_count": 33,
   "metadata": {},
   "outputs": [
    {
     "data": {
      "text/plain": [
       "Index(['ClaimID', 'VehicleYear', 'TermMonth', 'TermMiles'], dtype='object')"
      ]
     },
     "execution_count": 33,
     "metadata": {},
     "output_type": "execute_result"
    }
   ],
   "source": [
    "df[numerical].columns"
   ]
  },
  {
   "cell_type": "code",
   "execution_count": 34,
   "metadata": {},
   "outputs": [
    {
     "data": {
      "text/plain": [
       "(123439, 11)"
      ]
     },
     "execution_count": 34,
     "metadata": {},
     "output_type": "execute_result"
    }
   ],
   "source": [
    "df.shape"
   ]
  },
  {
   "cell_type": "markdown",
   "metadata": {},
   "source": [
    "# One hot encoding and dummy encoding on Categorical"
   ]
  },
  {
   "cell_type": "code",
   "execution_count": 35,
   "metadata": {},
   "outputs": [],
   "source": [
    "#Changing the datatype of the variable in a dataframe\n",
    "df['ProgramCode'] = df['ProgramCode'].astype('category')\n",
    "#df['ProductCode'] = df['ProductCode'].astype('category')\n",
    "df['PlanCode'] = df['PlanCode'].astype('category')\n",
    "\n",
    "#df['State'] = df['State'].astype('category')\n",
    "df['ContractStatus'] = df['ContractStatus'].astype('category')\n",
    "df['ComponentSet'] = df['ComponentSet'].astype('category')\n",
    "df['LOB'] = df['LOB'].astype('category')\n",
    "df['VehicleMake'] = df['VehicleMake'].astype('category')\n",
    "df['VehicleModel'] = df['VehicleModel'].astype('category')\n",
    "#df['FuelType'] = df['FuelType'].astype('category') \n",
    "#df['ComponentCode'] = df['ComponentCode'].astype('category')"
   ]
  },
  {
   "cell_type": "code",
   "execution_count": 36,
   "metadata": {},
   "outputs": [],
   "source": [
    "# Convert all non-numeric values to number\n",
    "cat=['LOB',  'ProgramCode', 'PlanCode', 'VehicleMake',\n",
    "       'VehicleModel', 'ContractStatus']"
   ]
  },
  {
   "cell_type": "code",
   "execution_count": 37,
   "metadata": {},
   "outputs": [
    {
     "data": {
      "text/plain": [
       "ClaimID              int64\n",
       "LOB                  int32\n",
       "ProgramCode          int32\n",
       "PlanCode             int32\n",
       "VehicleMake          int32\n",
       "VehicleModel         int32\n",
       "VehicleYear          int64\n",
       "TermMonth            int64\n",
       "TermMiles            int64\n",
       "ComponentSet      category\n",
       "ContractStatus       int32\n",
       "dtype: object"
      ]
     },
     "execution_count": 37,
     "metadata": {},
     "output_type": "execute_result"
    }
   ],
   "source": [
    "from sklearn import preprocessing\n",
    "le =preprocessing.LabelEncoder()\n",
    "for var in cat:\n",
    "    le = preprocessing.LabelEncoder()\n",
    "    df[var]=le.fit_transform(df[var].astype('str'))\n",
    "df.dtypes"
   ]
  },
  {
   "cell_type": "code",
   "execution_count": 38,
   "metadata": {},
   "outputs": [],
   "source": [
    "# explicitly require this experimental feature\n",
    "from sklearn.experimental import enable_iterative_imputer  # noqa\n",
    "# now you can import normally from sklearn.impute\n",
    "from sklearn.impute import IterativeImputer\n",
    "from sklearn.ensemble import ExtraTreesRegressor\n",
    "#from sklearn.neighbors import KNeighborsRegressor\n",
    "from sklearn.preprocessing import OrdinalEncoder"
   ]
  },
  {
   "cell_type": "code",
   "execution_count": 39,
   "metadata": {},
   "outputs": [
    {
     "data": {
      "text/plain": [
       "ClaimID           0\n",
       "LOB               0\n",
       "ProgramCode       0\n",
       "PlanCode          0\n",
       "VehicleMake       0\n",
       "VehicleModel      0\n",
       "VehicleYear       0\n",
       "TermMonth         0\n",
       "TermMiles         0\n",
       "ComponentSet      2\n",
       "ContractStatus    0\n",
       "dtype: int64"
      ]
     },
     "execution_count": 39,
     "metadata": {},
     "output_type": "execute_result"
    }
   ],
   "source": [
    "df.isnull().sum()"
   ]
  },
  {
   "cell_type": "code",
   "execution_count": 40,
   "metadata": {},
   "outputs": [
    {
     "name": "stdout",
     "output_type": "stream",
     "text": [
      "2012    0.098275\n",
      "2011    0.097311\n",
      "2013    0.097052\n",
      "2014    0.089145\n",
      "2008    0.080072\n",
      "2007    0.072287\n",
      "2015    0.068576\n",
      "2010    0.065304\n",
      "2006    0.058701\n",
      "2009    0.055930\n",
      "2005    0.042458\n",
      "2016    0.037946\n",
      "2004    0.029189\n",
      "2017    0.022456\n",
      "2003    0.018495\n",
      "2018    0.011325\n",
      "2002    0.011196\n",
      "2001    0.007858\n",
      "0       0.006351\n",
      "2000    0.005930\n",
      "1999    0.005590\n",
      "2019    0.004618\n",
      "1998    0.003710\n",
      "1997    0.003419\n",
      "1996    0.002706\n",
      "1995    0.001928\n",
      "1994    0.000875\n",
      "1993    0.000575\n",
      "1992    0.000275\n",
      "1990    0.000227\n",
      "2020    0.000154\n",
      "1991    0.000065\n",
      "Name: VehicleYear, dtype: float64\n",
      "\n",
      "60     0.345928\n",
      "48     0.191892\n",
      "36     0.113821\n",
      "72     0.099166\n",
      "24     0.073883\n",
      "120    0.054432\n",
      "84     0.050851\n",
      "38     0.031311\n",
      "1      0.011536\n",
      "12     0.011334\n",
      "999    0.004739\n",
      "96     0.003953\n",
      "75     0.002560\n",
      "6      0.001215\n",
      "39     0.000834\n",
      "168    0.000826\n",
      "3      0.000794\n",
      "66     0.000348\n",
      "42     0.000203\n",
      "63     0.000138\n",
      "78     0.000081\n",
      "30     0.000057\n",
      "54     0.000041\n",
      "18     0.000024\n",
      "57     0.000008\n",
      "69     0.000008\n",
      "65     0.000008\n",
      "76     0.000008\n",
      "Name: TermMonth, dtype: float64\n",
      "\n",
      "100000      0.291221\n",
      "75000       0.159658\n",
      "50000       0.146291\n",
      "9999999     0.142880\n",
      "60000       0.094176\n",
      "30000       0.054197\n",
      "42000       0.043025\n",
      "36000       0.015400\n",
      "90000       0.010556\n",
      "18000       0.009940\n",
      "24000       0.007348\n",
      "0           0.006335\n",
      "125000      0.005387\n",
      "120000      0.003338\n",
      "45000       0.003281\n",
      "70000       0.001572\n",
      "12000       0.000964\n",
      "130000      0.000802\n",
      "48000       0.000697\n",
      "3000        0.000583\n",
      "150000      0.000510\n",
      "15000       0.000446\n",
      "80000       0.000292\n",
      "84000       0.000227\n",
      "72000       0.000211\n",
      "99999999    0.000170\n",
      "999999      0.000130\n",
      "200000      0.000089\n",
      "25000       0.000089\n",
      "110000      0.000073\n",
      "35000       0.000057\n",
      "95000       0.000024\n",
      "40000       0.000024\n",
      "6000        0.000008\n",
      "Name: TermMiles, dtype: float64\n",
      "\n"
     ]
    }
   ],
   "source": [
    "\n",
    "# outlies in discrete variables\n",
    "for var in [  'VehicleYear', 'TermMonth', 'TermMiles',    \n",
    "       ]:\n",
    "    print(df[var].value_counts() / np.float(len(df)))\n",
    "    print()"
   ]
  },
  {
   "cell_type": "code",
   "execution_count": 41,
   "metadata": {},
   "outputs": [
    {
     "name": "stdout",
     "output_type": "stream",
     "text": [
      "LOB  contains  3  labels\n",
      "ProgramCode  contains  214  labels\n",
      "PlanCode  contains  502  labels\n",
      "VehicleMake  contains  61  labels\n",
      "VehicleModel  contains  3846  labels\n",
      "ComponentSet  contains  56  labels\n",
      "ContractStatus  contains  10  labels\n"
     ]
    }
   ],
   "source": [
    "for var in categorical:\n",
    "    print(var, ' contains ', len(df[var].unique()), ' labels')"
   ]
  },
  {
   "cell_type": "code",
   "execution_count": 42,
   "metadata": {},
   "outputs": [
    {
     "data": {
      "text/html": [
       "<div>\n",
       "<style scoped>\n",
       "    .dataframe tbody tr th:only-of-type {\n",
       "        vertical-align: middle;\n",
       "    }\n",
       "\n",
       "    .dataframe tbody tr th {\n",
       "        vertical-align: top;\n",
       "    }\n",
       "\n",
       "    .dataframe thead th {\n",
       "        text-align: right;\n",
       "    }\n",
       "</style>\n",
       "<table border=\"1\" class=\"dataframe\">\n",
       "  <thead>\n",
       "    <tr style=\"text-align: right;\">\n",
       "      <th></th>\n",
       "      <th>ClaimID</th>\n",
       "      <th>LOB</th>\n",
       "      <th>ProgramCode</th>\n",
       "      <th>PlanCode</th>\n",
       "      <th>VehicleMake</th>\n",
       "      <th>VehicleModel</th>\n",
       "      <th>VehicleYear</th>\n",
       "      <th>TermMonth</th>\n",
       "      <th>TermMiles</th>\n",
       "      <th>ContractStatus</th>\n",
       "      <th>...</th>\n",
       "      <th>TB</th>\n",
       "      <th>TC</th>\n",
       "      <th>TI</th>\n",
       "      <th>TR</th>\n",
       "      <th>TW</th>\n",
       "      <th>VAS</th>\n",
       "      <th>WAEXPENSE</th>\n",
       "      <th>WAVR</th>\n",
       "      <th>WH</th>\n",
       "      <th>WS</th>\n",
       "    </tr>\n",
       "  </thead>\n",
       "  <tbody>\n",
       "    <tr>\n",
       "      <td>0</td>\n",
       "      <td>208000</td>\n",
       "      <td>2</td>\n",
       "      <td>50</td>\n",
       "      <td>2</td>\n",
       "      <td>20</td>\n",
       "      <td>723</td>\n",
       "      <td>1994</td>\n",
       "      <td>84</td>\n",
       "      <td>100000</td>\n",
       "      <td>4</td>\n",
       "      <td>...</td>\n",
       "      <td>0</td>\n",
       "      <td>0</td>\n",
       "      <td>0</td>\n",
       "      <td>0</td>\n",
       "      <td>0</td>\n",
       "      <td>0</td>\n",
       "      <td>0</td>\n",
       "      <td>0</td>\n",
       "      <td>0</td>\n",
       "      <td>0</td>\n",
       "    </tr>\n",
       "    <tr>\n",
       "      <td>1</td>\n",
       "      <td>223093</td>\n",
       "      <td>6</td>\n",
       "      <td>198</td>\n",
       "      <td>18</td>\n",
       "      <td>81</td>\n",
       "      <td>2190</td>\n",
       "      <td>5982</td>\n",
       "      <td>216</td>\n",
       "      <td>300000</td>\n",
       "      <td>12</td>\n",
       "      <td>...</td>\n",
       "      <td>0</td>\n",
       "      <td>0</td>\n",
       "      <td>0</td>\n",
       "      <td>0</td>\n",
       "      <td>0</td>\n",
       "      <td>0</td>\n",
       "      <td>0</td>\n",
       "      <td>0</td>\n",
       "      <td>0</td>\n",
       "      <td>0</td>\n",
       "    </tr>\n",
       "    <tr>\n",
       "      <td>2</td>\n",
       "      <td>235398</td>\n",
       "      <td>8</td>\n",
       "      <td>204</td>\n",
       "      <td>24</td>\n",
       "      <td>80</td>\n",
       "      <td>2888</td>\n",
       "      <td>7976</td>\n",
       "      <td>288</td>\n",
       "      <td>400000</td>\n",
       "      <td>16</td>\n",
       "      <td>...</td>\n",
       "      <td>0</td>\n",
       "      <td>0</td>\n",
       "      <td>0</td>\n",
       "      <td>0</td>\n",
       "      <td>0</td>\n",
       "      <td>0</td>\n",
       "      <td>0</td>\n",
       "      <td>0</td>\n",
       "      <td>0</td>\n",
       "      <td>0</td>\n",
       "    </tr>\n",
       "    <tr>\n",
       "      <td>3</td>\n",
       "      <td>242989</td>\n",
       "      <td>6</td>\n",
       "      <td>153</td>\n",
       "      <td>6</td>\n",
       "      <td>99</td>\n",
       "      <td>2397</td>\n",
       "      <td>5985</td>\n",
       "      <td>216</td>\n",
       "      <td>300000</td>\n",
       "      <td>12</td>\n",
       "      <td>...</td>\n",
       "      <td>0</td>\n",
       "      <td>0</td>\n",
       "      <td>0</td>\n",
       "      <td>0</td>\n",
       "      <td>0</td>\n",
       "      <td>0</td>\n",
       "      <td>0</td>\n",
       "      <td>0</td>\n",
       "      <td>0</td>\n",
       "      <td>0</td>\n",
       "    </tr>\n",
       "    <tr>\n",
       "      <td>4</td>\n",
       "      <td>244752</td>\n",
       "      <td>4</td>\n",
       "      <td>102</td>\n",
       "      <td>4</td>\n",
       "      <td>16</td>\n",
       "      <td>1412</td>\n",
       "      <td>3988</td>\n",
       "      <td>144</td>\n",
       "      <td>200000</td>\n",
       "      <td>8</td>\n",
       "      <td>...</td>\n",
       "      <td>0</td>\n",
       "      <td>0</td>\n",
       "      <td>0</td>\n",
       "      <td>0</td>\n",
       "      <td>0</td>\n",
       "      <td>0</td>\n",
       "      <td>0</td>\n",
       "      <td>0</td>\n",
       "      <td>0</td>\n",
       "      <td>0</td>\n",
       "    </tr>\n",
       "    <tr>\n",
       "      <td>...</td>\n",
       "      <td>...</td>\n",
       "      <td>...</td>\n",
       "      <td>...</td>\n",
       "      <td>...</td>\n",
       "      <td>...</td>\n",
       "      <td>...</td>\n",
       "      <td>...</td>\n",
       "      <td>...</td>\n",
       "      <td>...</td>\n",
       "      <td>...</td>\n",
       "      <td>...</td>\n",
       "      <td>...</td>\n",
       "      <td>...</td>\n",
       "      <td>...</td>\n",
       "      <td>...</td>\n",
       "      <td>...</td>\n",
       "      <td>...</td>\n",
       "      <td>...</td>\n",
       "      <td>...</td>\n",
       "      <td>...</td>\n",
       "      <td>...</td>\n",
       "    </tr>\n",
       "    <tr>\n",
       "      <td>55386</td>\n",
       "      <td>94717642</td>\n",
       "      <td>2</td>\n",
       "      <td>131</td>\n",
       "      <td>383</td>\n",
       "      <td>2</td>\n",
       "      <td>2208</td>\n",
       "      <td>2018</td>\n",
       "      <td>60</td>\n",
       "      <td>9999999</td>\n",
       "      <td>6</td>\n",
       "      <td>...</td>\n",
       "      <td>0</td>\n",
       "      <td>0</td>\n",
       "      <td>0</td>\n",
       "      <td>0</td>\n",
       "      <td>0</td>\n",
       "      <td>0</td>\n",
       "      <td>0</td>\n",
       "      <td>0</td>\n",
       "      <td>1</td>\n",
       "      <td>0</td>\n",
       "    </tr>\n",
       "    <tr>\n",
       "      <td>55387</td>\n",
       "      <td>94718804</td>\n",
       "      <td>2</td>\n",
       "      <td>30</td>\n",
       "      <td>122</td>\n",
       "      <td>22</td>\n",
       "      <td>1897</td>\n",
       "      <td>2015</td>\n",
       "      <td>72</td>\n",
       "      <td>9999999</td>\n",
       "      <td>6</td>\n",
       "      <td>...</td>\n",
       "      <td>0</td>\n",
       "      <td>0</td>\n",
       "      <td>0</td>\n",
       "      <td>0</td>\n",
       "      <td>0</td>\n",
       "      <td>0</td>\n",
       "      <td>0</td>\n",
       "      <td>0</td>\n",
       "      <td>0</td>\n",
       "      <td>0</td>\n",
       "    </tr>\n",
       "    <tr>\n",
       "      <td>55388</td>\n",
       "      <td>94718949</td>\n",
       "      <td>2</td>\n",
       "      <td>211</td>\n",
       "      <td>496</td>\n",
       "      <td>48</td>\n",
       "      <td>2989</td>\n",
       "      <td>2014</td>\n",
       "      <td>60</td>\n",
       "      <td>9999999</td>\n",
       "      <td>6</td>\n",
       "      <td>...</td>\n",
       "      <td>0</td>\n",
       "      <td>0</td>\n",
       "      <td>0</td>\n",
       "      <td>0</td>\n",
       "      <td>0</td>\n",
       "      <td>0</td>\n",
       "      <td>0</td>\n",
       "      <td>0</td>\n",
       "      <td>0</td>\n",
       "      <td>0</td>\n",
       "    </tr>\n",
       "    <tr>\n",
       "      <td>55389</td>\n",
       "      <td>94719487</td>\n",
       "      <td>2</td>\n",
       "      <td>32</td>\n",
       "      <td>120</td>\n",
       "      <td>22</td>\n",
       "      <td>1894</td>\n",
       "      <td>2018</td>\n",
       "      <td>72</td>\n",
       "      <td>9999999</td>\n",
       "      <td>6</td>\n",
       "      <td>...</td>\n",
       "      <td>0</td>\n",
       "      <td>0</td>\n",
       "      <td>0</td>\n",
       "      <td>0</td>\n",
       "      <td>0</td>\n",
       "      <td>0</td>\n",
       "      <td>0</td>\n",
       "      <td>0</td>\n",
       "      <td>0</td>\n",
       "      <td>0</td>\n",
       "    </tr>\n",
       "    <tr>\n",
       "      <td>55390</td>\n",
       "      <td>94720175</td>\n",
       "      <td>0</td>\n",
       "      <td>30</td>\n",
       "      <td>122</td>\n",
       "      <td>41</td>\n",
       "      <td>2610</td>\n",
       "      <td>2016</td>\n",
       "      <td>84</td>\n",
       "      <td>9999999</td>\n",
       "      <td>6</td>\n",
       "      <td>...</td>\n",
       "      <td>0</td>\n",
       "      <td>0</td>\n",
       "      <td>0</td>\n",
       "      <td>0</td>\n",
       "      <td>0</td>\n",
       "      <td>0</td>\n",
       "      <td>0</td>\n",
       "      <td>0</td>\n",
       "      <td>0</td>\n",
       "      <td>0</td>\n",
       "    </tr>\n",
       "  </tbody>\n",
       "</table>\n",
       "<p>55391 rows × 65 columns</p>\n",
       "</div>"
      ],
      "text/plain": [
       "        ClaimID  LOB  ProgramCode  PlanCode  VehicleMake  VehicleModel  \\\n",
       "0        208000    2           50         2           20           723   \n",
       "1        223093    6          198        18           81          2190   \n",
       "2        235398    8          204        24           80          2888   \n",
       "3        242989    6          153         6           99          2397   \n",
       "4        244752    4          102         4           16          1412   \n",
       "...         ...  ...          ...       ...          ...           ...   \n",
       "55386  94717642    2          131       383            2          2208   \n",
       "55387  94718804    2           30       122           22          1897   \n",
       "55388  94718949    2          211       496           48          2989   \n",
       "55389  94719487    2           32       120           22          1894   \n",
       "55390  94720175    0           30       122           41          2610   \n",
       "\n",
       "       VehicleYear  TermMonth  TermMiles  ContractStatus  ...  TB  TC  TI  TR  \\\n",
       "0             1994         84     100000               4  ...   0   0   0   0   \n",
       "1             5982        216     300000              12  ...   0   0   0   0   \n",
       "2             7976        288     400000              16  ...   0   0   0   0   \n",
       "3             5985        216     300000              12  ...   0   0   0   0   \n",
       "4             3988        144     200000               8  ...   0   0   0   0   \n",
       "...            ...        ...        ...             ...  ...  ..  ..  ..  ..   \n",
       "55386         2018         60    9999999               6  ...   0   0   0   0   \n",
       "55387         2015         72    9999999               6  ...   0   0   0   0   \n",
       "55388         2014         60    9999999               6  ...   0   0   0   0   \n",
       "55389         2018         72    9999999               6  ...   0   0   0   0   \n",
       "55390         2016         84    9999999               6  ...   0   0   0   0   \n",
       "\n",
       "       TW  VAS  WAEXPENSE  WAVR  WH  WS  \n",
       "0       0    0          0     0   0   0  \n",
       "1       0    0          0     0   0   0  \n",
       "2       0    0          0     0   0   0  \n",
       "3       0    0          0     0   0   0  \n",
       "4       0    0          0     0   0   0  \n",
       "...    ..  ...        ...   ...  ..  ..  \n",
       "55386   0    0          0     0   1   0  \n",
       "55387   0    0          0     0   0   0  \n",
       "55388   0    0          0     0   0   0  \n",
       "55389   0    0          0     0   0   0  \n",
       "55390   0    0          0     0   0   0  \n",
       "\n",
       "[55391 rows x 65 columns]"
      ]
     },
     "execution_count": 42,
     "metadata": {},
     "output_type": "execute_result"
    }
   ],
   "source": [
    "df2=pd.concat([df, pd.get_dummies(df.ComponentSet)], 1).groupby(['ClaimID']).sum().reset_index()\n",
    "df2"
   ]
  },
  {
   "cell_type": "code",
   "execution_count": 43,
   "metadata": {},
   "outputs": [],
   "source": [
    "df2.drop([ 'LOB', 'ProgramCode', 'PlanCode', 'VehicleMake',\n",
    "       'VehicleModel', 'VehicleYear', 'TermMonth', 'TermMiles',\n",
    "       'ContractStatus'], axis=1, inplace=True) "
   ]
  },
  {
   "cell_type": "code",
   "execution_count": 45,
   "metadata": {},
   "outputs": [],
   "source": [
    "#df2.to_csv('C:/Users/Pavan/Documents/DATAEFG/EFGTT/Testdumm11.csv',index=True)"
   ]
  },
  {
   "cell_type": "code",
   "execution_count": 46,
   "metadata": {},
   "outputs": [
    {
     "data": {
      "text/html": [
       "<div>\n",
       "<style scoped>\n",
       "    .dataframe tbody tr th:only-of-type {\n",
       "        vertical-align: middle;\n",
       "    }\n",
       "\n",
       "    .dataframe tbody tr th {\n",
       "        vertical-align: top;\n",
       "    }\n",
       "\n",
       "    .dataframe thead th {\n",
       "        text-align: right;\n",
       "    }\n",
       "</style>\n",
       "<table border=\"1\" class=\"dataframe\">\n",
       "  <thead>\n",
       "    <tr style=\"text-align: right;\">\n",
       "      <th></th>\n",
       "      <th>LOB</th>\n",
       "      <th>ProgramCode</th>\n",
       "      <th>PlanCode</th>\n",
       "      <th>VehicleMake</th>\n",
       "      <th>VehicleModel</th>\n",
       "      <th>VehicleYear</th>\n",
       "      <th>TermMonth</th>\n",
       "      <th>TermMiles</th>\n",
       "      <th>ComponentSet</th>\n",
       "      <th>ContractStatus</th>\n",
       "    </tr>\n",
       "    <tr>\n",
       "      <th>ClaimID</th>\n",
       "      <th></th>\n",
       "      <th></th>\n",
       "      <th></th>\n",
       "      <th></th>\n",
       "      <th></th>\n",
       "      <th></th>\n",
       "      <th></th>\n",
       "      <th></th>\n",
       "      <th></th>\n",
       "      <th></th>\n",
       "    </tr>\n",
       "  </thead>\n",
       "  <tbody>\n",
       "    <tr>\n",
       "      <td>208000</td>\n",
       "      <td>2</td>\n",
       "      <td>50</td>\n",
       "      <td>2</td>\n",
       "      <td>20</td>\n",
       "      <td>723</td>\n",
       "      <td>1994</td>\n",
       "      <td>84</td>\n",
       "      <td>100000</td>\n",
       "      <td>IN</td>\n",
       "      <td>4</td>\n",
       "    </tr>\n",
       "    <tr>\n",
       "      <td>223093</td>\n",
       "      <td>2</td>\n",
       "      <td>66</td>\n",
       "      <td>6</td>\n",
       "      <td>27</td>\n",
       "      <td>730</td>\n",
       "      <td>1994</td>\n",
       "      <td>72</td>\n",
       "      <td>100000</td>\n",
       "      <td>EL</td>\n",
       "      <td>4</td>\n",
       "    </tr>\n",
       "    <tr>\n",
       "      <td>235398</td>\n",
       "      <td>2</td>\n",
       "      <td>51</td>\n",
       "      <td>6</td>\n",
       "      <td>20</td>\n",
       "      <td>722</td>\n",
       "      <td>1994</td>\n",
       "      <td>72</td>\n",
       "      <td>100000</td>\n",
       "      <td>HT</td>\n",
       "      <td>4</td>\n",
       "    </tr>\n",
       "    <tr>\n",
       "      <td>242989</td>\n",
       "      <td>2</td>\n",
       "      <td>51</td>\n",
       "      <td>2</td>\n",
       "      <td>33</td>\n",
       "      <td>799</td>\n",
       "      <td>1995</td>\n",
       "      <td>72</td>\n",
       "      <td>100000</td>\n",
       "      <td>EC</td>\n",
       "      <td>4</td>\n",
       "    </tr>\n",
       "    <tr>\n",
       "      <td>244752</td>\n",
       "      <td>2</td>\n",
       "      <td>51</td>\n",
       "      <td>2</td>\n",
       "      <td>8</td>\n",
       "      <td>706</td>\n",
       "      <td>1994</td>\n",
       "      <td>72</td>\n",
       "      <td>100000</td>\n",
       "      <td>EG</td>\n",
       "      <td>4</td>\n",
       "    </tr>\n",
       "    <tr>\n",
       "      <td>...</td>\n",
       "      <td>...</td>\n",
       "      <td>...</td>\n",
       "      <td>...</td>\n",
       "      <td>...</td>\n",
       "      <td>...</td>\n",
       "      <td>...</td>\n",
       "      <td>...</td>\n",
       "      <td>...</td>\n",
       "      <td>...</td>\n",
       "      <td>...</td>\n",
       "    </tr>\n",
       "    <tr>\n",
       "      <td>94717642</td>\n",
       "      <td>2</td>\n",
       "      <td>131</td>\n",
       "      <td>383</td>\n",
       "      <td>2</td>\n",
       "      <td>2208</td>\n",
       "      <td>2018</td>\n",
       "      <td>60</td>\n",
       "      <td>9999999</td>\n",
       "      <td>WH</td>\n",
       "      <td>6</td>\n",
       "    </tr>\n",
       "    <tr>\n",
       "      <td>94718804</td>\n",
       "      <td>2</td>\n",
       "      <td>30</td>\n",
       "      <td>122</td>\n",
       "      <td>22</td>\n",
       "      <td>1897</td>\n",
       "      <td>2015</td>\n",
       "      <td>72</td>\n",
       "      <td>9999999</td>\n",
       "      <td>GAP</td>\n",
       "      <td>6</td>\n",
       "    </tr>\n",
       "    <tr>\n",
       "      <td>94718949</td>\n",
       "      <td>2</td>\n",
       "      <td>211</td>\n",
       "      <td>496</td>\n",
       "      <td>48</td>\n",
       "      <td>2989</td>\n",
       "      <td>2014</td>\n",
       "      <td>60</td>\n",
       "      <td>9999999</td>\n",
       "      <td>GAP</td>\n",
       "      <td>6</td>\n",
       "    </tr>\n",
       "    <tr>\n",
       "      <td>94719487</td>\n",
       "      <td>2</td>\n",
       "      <td>32</td>\n",
       "      <td>120</td>\n",
       "      <td>22</td>\n",
       "      <td>1894</td>\n",
       "      <td>2018</td>\n",
       "      <td>72</td>\n",
       "      <td>9999999</td>\n",
       "      <td>GAP</td>\n",
       "      <td>6</td>\n",
       "    </tr>\n",
       "    <tr>\n",
       "      <td>94720175</td>\n",
       "      <td>0</td>\n",
       "      <td>30</td>\n",
       "      <td>122</td>\n",
       "      <td>41</td>\n",
       "      <td>2610</td>\n",
       "      <td>2016</td>\n",
       "      <td>84</td>\n",
       "      <td>9999999</td>\n",
       "      <td>GAP</td>\n",
       "      <td>6</td>\n",
       "    </tr>\n",
       "  </tbody>\n",
       "</table>\n",
       "<p>55391 rows × 10 columns</p>\n",
       "</div>"
      ],
      "text/plain": [
       "          LOB  ProgramCode  PlanCode  VehicleMake  VehicleModel  VehicleYear  \\\n",
       "ClaimID                                                                        \n",
       "208000      2           50         2           20           723         1994   \n",
       "223093      2           66         6           27           730         1994   \n",
       "235398      2           51         6           20           722         1994   \n",
       "242989      2           51         2           33           799         1995   \n",
       "244752      2           51         2            8           706         1994   \n",
       "...       ...          ...       ...          ...           ...          ...   \n",
       "94717642    2          131       383            2          2208         2018   \n",
       "94718804    2           30       122           22          1897         2015   \n",
       "94718949    2          211       496           48          2989         2014   \n",
       "94719487    2           32       120           22          1894         2018   \n",
       "94720175    0           30       122           41          2610         2016   \n",
       "\n",
       "          TermMonth  TermMiles ComponentSet  ContractStatus  \n",
       "ClaimID                                                      \n",
       "208000           84     100000           IN               4  \n",
       "223093           72     100000           EL               4  \n",
       "235398           72     100000           HT               4  \n",
       "242989           72     100000           EC               4  \n",
       "244752           72     100000           EG               4  \n",
       "...             ...        ...          ...             ...  \n",
       "94717642         60    9999999           WH               6  \n",
       "94718804         72    9999999          GAP               6  \n",
       "94718949         60    9999999          GAP               6  \n",
       "94719487         72    9999999          GAP               6  \n",
       "94720175         84    9999999          GAP               6  \n",
       "\n",
       "[55391 rows x 10 columns]"
      ]
     },
     "execution_count": 46,
     "metadata": {},
     "output_type": "execute_result"
    }
   ],
   "source": [
    "df1=df.groupby(['ClaimID']).last()\n",
    "df1"
   ]
  },
  {
   "cell_type": "code",
   "execution_count": 47,
   "metadata": {
    "scrolled": true
   },
   "outputs": [],
   "source": [
    "df1.drop([ 'ComponentSet'], axis=1, inplace=True) \n"
   ]
  },
  {
   "cell_type": "code",
   "execution_count": 48,
   "metadata": {},
   "outputs": [
    {
     "data": {
      "text/plain": [
       "Index(['LOB', 'ProgramCode', 'PlanCode', 'VehicleMake', 'VehicleModel',\n",
       "       'VehicleYear', 'TermMonth', 'TermMiles', 'ContractStatus'],\n",
       "      dtype='object')"
      ]
     },
     "execution_count": 48,
     "metadata": {},
     "output_type": "execute_result"
    }
   ],
   "source": [
    "df1.columns"
   ]
  },
  {
   "cell_type": "code",
   "execution_count": 49,
   "metadata": {},
   "outputs": [
    {
     "data": {
      "text/plain": [
       "Index(['ClaimID', 'AC', 'AT', 'AX', 'BK', 'BM', 'CB', 'CF', 'CNG', 'DC', 'DI',\n",
       "       'DZ', 'EC', 'ED', 'EG', 'EL', 'EM', 'FE', 'FR', 'FS', 'FW', 'GAP', 'HT',\n",
       "       'HW', 'IM', 'IN', 'KK', 'LD', 'LF', 'MAINT', 'MN', 'MT', 'OT', 'OTHER',\n",
       "       'RAM', 'RD', 'RF', 'RR', 'RW', 'SH', 'SHORT', 'SP', 'SS', 'ST', 'SU',\n",
       "       'SUPPLIES', 'TB', 'TC', 'TI', 'TR', 'TW', 'VAS', 'WAEXPENSE', 'WAVR',\n",
       "       'WH', 'WS'],\n",
       "      dtype='object')"
      ]
     },
     "execution_count": 49,
     "metadata": {},
     "output_type": "execute_result"
    }
   ],
   "source": [
    "df2.columns"
   ]
  },
  {
   "cell_type": "code",
   "execution_count": 43,
   "metadata": {},
   "outputs": [],
   "source": [
    "#df1.to_csv('C:/Users/Pavan/Documents/DATAEFG/EFGTT/Test_group.csv',index=True)"
   ]
  },
  {
   "cell_type": "code",
   "execution_count": 50,
   "metadata": {},
   "outputs": [
    {
     "data": {
      "text/plain": [
       "Index(['ClaimID', 'LOB', 'ProgramCode', 'PlanCode', 'VehicleMake',\n",
       "       'VehicleModel', 'VehicleYear', 'TermMonth', 'TermMiles',\n",
       "       'ContractStatus', 'AC', 'AT', 'AX', 'BK', 'BM', 'CB', 'CF', 'CNG', 'DC',\n",
       "       'DI', 'DZ', 'EC', 'ED', 'EG', 'EL', 'EM', 'FE', 'FR', 'FS', 'FW', 'GAP',\n",
       "       'HT', 'HW', 'IM', 'IN', 'KK', 'LD', 'LF', 'MAINT', 'MN', 'MT', 'OT',\n",
       "       'OTHER', 'RAM', 'RD', 'RF', 'RR', 'RW', 'SH', 'SHORT', 'SP', 'SS', 'ST',\n",
       "       'SU', 'SUPPLIES', 'TB', 'TC', 'TI', 'TR', 'TW', 'VAS', 'WAEXPENSE',\n",
       "       'WAVR', 'WH', 'WS'],\n",
       "      dtype='object')"
      ]
     },
     "execution_count": 50,
     "metadata": {},
     "output_type": "execute_result"
    }
   ],
   "source": [
    "df3=df1.merge(df2, left_on='ClaimID', right_on='ClaimID')\n",
    "df3.columns"
   ]
  },
  {
   "cell_type": "code",
   "execution_count": 51,
   "metadata": {},
   "outputs": [],
   "source": [
    "df3.to_csv('C:/Users/Pavan/CSV_FILES_PYTHON/OUTPUT/2Test_merge2.0.csv',index=False)"
   ]
  },
  {
   "cell_type": "code",
   "execution_count": null,
   "metadata": {},
   "outputs": [],
   "source": []
  },
  {
   "cell_type": "code",
   "execution_count": 44,
   "metadata": {},
   "outputs": [],
   "source": [
    "#The Variables which can be removed are -, removed Catogerical  ComponentSet_OTHER column to avoid dummy variable trap\n",
    "#vars_to_be_removed = [ 'ComponentSet']\n",
    "\n",
    "#df.drop(vars_to_be_removed , axis = 1, inplace=True )#inplace=True"
   ]
  },
  {
   "cell_type": "markdown",
   "metadata": {},
   "source": [
    "# END Test DATA CleanUP"
   ]
  },
  {
   "cell_type": "code",
   "execution_count": null,
   "metadata": {},
   "outputs": [],
   "source": []
  }
 ],
 "metadata": {
  "kernelspec": {
   "display_name": "Python 3",
   "language": "python",
   "name": "python3"
  },
  "language_info": {
   "codemirror_mode": {
    "name": "ipython",
    "version": 3
   },
   "file_extension": ".py",
   "mimetype": "text/x-python",
   "name": "python",
   "nbconvert_exporter": "python",
   "pygments_lexer": "ipython3",
   "version": "3.7.4"
  }
 },
 "nbformat": 4,
 "nbformat_minor": 2
}
