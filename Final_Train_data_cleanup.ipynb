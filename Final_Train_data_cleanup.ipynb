{
 "cells": [
  {
   "cell_type": "markdown",
   "metadata": {},
   "source": [
    "# Claim Approval Process\n"
   ]
  },
  {
   "cell_type": "code",
   "execution_count": 1,
   "metadata": {},
   "outputs": [],
   "source": [
    "# To ignore any warnings\n",
    "import warnings\n",
    "warnings.filterwarnings('ignore')\n",
    "#To run all the commands in a same shell\n",
    "from IPython.core.interactiveshell import InteractiveShell\n",
    "InteractiveShell.ast_node_interactivity = \"all\"\n",
    "from matplotlib import pyplot\n",
    "import numpy as np\n",
    "import pandas as pd\n",
    "from scipy.stats import norm\n",
    "# For plotting graphs\n",
    "import matplotlib.pyplot as plt\n",
    "\n",
    "%matplotlib inline\n",
    "# For data visualization\n",
    "import seaborn as sns\n",
    "#for different algorithms\n",
    "from sklearn.utils import shuffle\n",
    "from factor_analyzer import FactorAnalyzer\n",
    "from sklearn import decomposition, preprocessing\n",
    "from sklearn.model_selection import cross_val_score\n",
    "from sklearn.preprocessing import scale\n",
    "from sklearn.model_selection import train_test_split\n",
    "from sklearn.model_selection import cross_val_score\n",
    "from sklearn.metrics import accuracy_score\n",
    "from sklearn.metrics import classification_report\n",
    "from sklearn.metrics import confusion_matrix\n",
    "from sklearn.metrics import roc_curve\n",
    "from sklearn.metrics import roc_auc_score\n",
    "from sklearn.model_selection import GridSearchCV\n",
    "from sklearn.linear_model import LogisticRegression\n",
    "from sklearn.svm import SVC\n",
    "from sklearn.neighbors import KNeighborsClassifier\n",
    "from sklearn.tree import DecisionTreeClassifier, export_graphviz\n",
    "from sklearn.ensemble import RandomForestClassifier\n",
    "from sklearn.ensemble import GradientBoostingClassifier\n",
    "from sklearn.ensemble import AdaBoostClassifier"
   ]
  },
  {
   "cell_type": "markdown",
   "metadata": {},
   "source": [
    "# Import Dataset"
   ]
  },
  {
   "cell_type": "code",
   "execution_count": 2,
   "metadata": {
    "scrolled": true
   },
   "outputs": [],
   "source": [
    "df= pd.read_csv((r'C:/Users/Pavan/Documents/DATAEFG/TrainingData_New.csv'))\n"
   ]
  },
  {
   "cell_type": "code",
   "execution_count": 3,
   "metadata": {},
   "outputs": [
    {
     "data": {
      "text/plain": [
       "ClaimID                 0\n",
       "AGMID                   0\n",
       "LOB                     0\n",
       "State             1604742\n",
       "ProgramCode             0\n",
       "PlanCode                0\n",
       "VehicleMake           123\n",
       "VehicleModel         3829\n",
       "VehicleYear             0\n",
       "TermMonth               0\n",
       "TermMiles               0\n",
       "ComponentCode           0\n",
       "ComponentSet           82\n",
       "ContractStatus          0\n",
       "AgeAtClaim              2\n",
       "AgeAtCancel             0\n",
       "Claimstatus       2505572\n",
       "ClaimDate             382\n",
       "PaidDate                0\n",
       "AgeofPayment            0\n",
       "dtype: int64"
      ]
     },
     "execution_count": 3,
     "metadata": {},
     "output_type": "execute_result"
    }
   ],
   "source": [
    "df.Claimstatus=df.Claimstatus.map({'C':1,'D':0}) \n",
    "df.isnull().sum()"
   ]
  },
  {
   "cell_type": "code",
   "execution_count": 4,
   "metadata": {},
   "outputs": [],
   "source": [
    "df.drop_duplicates(['ClaimID', 'ComponentSet'],keep= 'last', inplace = True)\n"
   ]
  },
  {
   "cell_type": "code",
   "execution_count": 6,
   "metadata": {},
   "outputs": [],
   "source": [
    "#df.to_csv('C:/Users/Pavan/Documents/DATAEFG/Out_RESULT/T8020.csv',index=False)"
   ]
  },
  {
   "cell_type": "code",
   "execution_count": 7,
   "metadata": {},
   "outputs": [
    {
     "data": {
      "text/plain": [
       "Index(['ClaimID', 'AGMID', 'LOB', 'State', 'ProgramCode', 'PlanCode',\n",
       "       'VehicleMake', 'VehicleModel', 'VehicleYear', 'TermMonth', 'TermMiles',\n",
       "       'ComponentCode', 'ComponentSet', 'ContractStatus', 'AgeAtClaim',\n",
       "       'AgeAtCancel', 'Claimstatus', 'ClaimDate', 'PaidDate', 'AgeofPayment'],\n",
       "      dtype='object')"
      ]
     },
     "execution_count": 7,
     "metadata": {},
     "output_type": "execute_result"
    }
   ],
   "source": [
    "df.columns"
   ]
  },
  {
   "cell_type": "code",
   "execution_count": 8,
   "metadata": {},
   "outputs": [
    {
     "data": {
      "text/plain": [
       "State           1079158\n",
       "VehicleMake          93\n",
       "VehicleModel       3097\n",
       "ComponentSet         65\n",
       "AgeAtClaim            1\n",
       "Claimstatus     1706189\n",
       "ClaimDate           232\n",
       "dtype: int64"
      ]
     },
     "execution_count": 8,
     "metadata": {},
     "output_type": "execute_result"
    }
   ],
   "source": [
    "nulls = df.isnull().sum()\n",
    "nulls[nulls > 0]"
   ]
  },
  {
   "cell_type": "code",
   "execution_count": 9,
   "metadata": {},
   "outputs": [
    {
     "name": "stdout",
     "output_type": "stream",
     "text": [
      "<class 'pandas.core.frame.DataFrame'>\n",
      "Int64Index: 1706189 entries, 0 to 2505571\n",
      "Data columns (total 20 columns):\n",
      "ClaimID           int64\n",
      "AGMID             int64\n",
      "LOB               object\n",
      "State             object\n",
      "ProgramCode       object\n",
      "PlanCode          object\n",
      "VehicleMake       object\n",
      "VehicleModel      object\n",
      "VehicleYear       int64\n",
      "TermMonth         int64\n",
      "TermMiles         int64\n",
      "ComponentCode     object\n",
      "ComponentSet      object\n",
      "ContractStatus    object\n",
      "AgeAtClaim        float64\n",
      "AgeAtCancel       int64\n",
      "Claimstatus       float64\n",
      "ClaimDate         float64\n",
      "PaidDate          int64\n",
      "AgeofPayment      object\n",
      "dtypes: float64(3), int64(7), object(10)\n",
      "memory usage: 273.4+ MB\n"
     ]
    }
   ],
   "source": [
    "df.info()"
   ]
  },
  {
   "cell_type": "code",
   "execution_count": 10,
   "metadata": {},
   "outputs": [],
   "source": [
    "#df.to_csv('C:/Users/Pavan/Documents/DATAEFG/Out_RESULT/traint_NEW.csv',index=False)"
   ]
  },
  {
   "cell_type": "code",
   "execution_count": 11,
   "metadata": {},
   "outputs": [
    {
     "data": {
      "text/plain": [
       "(1706189, 20)"
      ]
     },
     "execution_count": 11,
     "metadata": {},
     "output_type": "execute_result"
    }
   ],
   "source": [
    "df.shape"
   ]
  },
  {
   "cell_type": "code",
   "execution_count": 12,
   "metadata": {},
   "outputs": [],
   "source": [
    "from sklearn.utils import shuffle\n",
    "df = shuffle(df)"
   ]
  },
  {
   "cell_type": "code",
   "execution_count": 13,
   "metadata": {},
   "outputs": [
    {
     "data": {
      "text/plain": [
       "(Index(['ClaimID', 'AGMID', 'LOB', 'State', 'ProgramCode', 'PlanCode',\n",
       "        'VehicleMake', 'VehicleModel', 'VehicleYear', 'TermMonth', 'TermMiles',\n",
       "        'ComponentCode', 'ComponentSet', 'ContractStatus', 'AgeAtClaim',\n",
       "        'AgeAtCancel', 'Claimstatus', 'ClaimDate', 'PaidDate', 'AgeofPayment'],\n",
       "       dtype='object'), (1706189, 20))"
      ]
     },
     "execution_count": 13,
     "metadata": {},
     "output_type": "execute_result"
    }
   ],
   "source": [
    "df.columns,df.shape"
   ]
  },
  {
   "cell_type": "code",
   "execution_count": 14,
   "metadata": {},
   "outputs": [],
   "source": [
    "#df.to_csv('C:/Users/Pavan/Documents/DATAEFG/Out_RESULT/qwe.csv',index=False)"
   ]
  },
  {
   "cell_type": "markdown",
   "metadata": {},
   "source": [
    "# Missing values at individual variable level"
   ]
  },
  {
   "cell_type": "code",
   "execution_count": 15,
   "metadata": {},
   "outputs": [],
   "source": [
    "#test[['ClaimID','ClaimStatus']].to_csv('C:/Users/Pavan/Documents/DATAEFG/Out_RESULT/Test_NEW.csv',index=False)"
   ]
  },
  {
   "cell_type": "code",
   "execution_count": 16,
   "metadata": {},
   "outputs": [
    {
     "data": {
      "text/plain": [
       "ClaimID                 0\n",
       "AGMID                   0\n",
       "LOB                     0\n",
       "State             1079158\n",
       "ProgramCode             0\n",
       "PlanCode                0\n",
       "VehicleMake            93\n",
       "VehicleModel         3097\n",
       "VehicleYear             0\n",
       "TermMonth               0\n",
       "TermMiles               0\n",
       "ComponentCode           0\n",
       "ComponentSet           65\n",
       "ContractStatus          0\n",
       "AgeAtClaim              1\n",
       "AgeAtCancel             0\n",
       "Claimstatus       1706189\n",
       "ClaimDate             232\n",
       "PaidDate                0\n",
       "AgeofPayment            0\n",
       "dtype: int64"
      ]
     },
     "execution_count": 16,
     "metadata": {},
     "output_type": "execute_result"
    }
   ],
   "source": [
    "#shows the missing values at individual variable level\n",
    "\n",
    "#df.isnull().sum() --> works same as below code\n",
    "df.apply(lambda x: sum(x.isnull()), axis=0)"
   ]
  },
  {
   "cell_type": "code",
   "execution_count": 17,
   "metadata": {},
   "outputs": [
    {
     "data": {
      "text/plain": [
       "2788835"
      ]
     },
     "execution_count": 17,
     "metadata": {},
     "output_type": "execute_result"
    }
   ],
   "source": [
    "#shows the total number of missing values\n",
    "df.isnull().sum().sum()"
   ]
  },
  {
   "cell_type": "code",
   "execution_count": 18,
   "metadata": {},
   "outputs": [
    {
     "data": {
      "text/plain": [
       "Claimstatus    1.0\n",
       "dtype: float64"
      ]
     },
     "execution_count": 18,
     "metadata": {},
     "output_type": "execute_result"
    }
   ],
   "source": [
    "#variables which we can remove\n",
    "var_null_pc = df.isnull().sum(axis=0).sort_values( ascending=False)/float(len(df) )\n",
    "var_null_pc[ var_null_pc > 0.75 ]"
   ]
  },
  {
   "cell_type": "code",
   "execution_count": 19,
   "metadata": {},
   "outputs": [
    {
     "data": {
      "text/html": [
       "<div>\n",
       "<style scoped>\n",
       "    .dataframe tbody tr th:only-of-type {\n",
       "        vertical-align: middle;\n",
       "    }\n",
       "\n",
       "    .dataframe tbody tr th {\n",
       "        vertical-align: top;\n",
       "    }\n",
       "\n",
       "    .dataframe thead th {\n",
       "        text-align: right;\n",
       "    }\n",
       "</style>\n",
       "<table border=\"1\" class=\"dataframe\">\n",
       "  <thead>\n",
       "    <tr style=\"text-align: right;\">\n",
       "      <th></th>\n",
       "      <th>ClaimID</th>\n",
       "      <th>AGMID</th>\n",
       "      <th>LOB</th>\n",
       "      <th>State</th>\n",
       "      <th>ProgramCode</th>\n",
       "      <th>PlanCode</th>\n",
       "      <th>VehicleMake</th>\n",
       "      <th>VehicleModel</th>\n",
       "      <th>VehicleYear</th>\n",
       "      <th>TermMonth</th>\n",
       "      <th>TermMiles</th>\n",
       "      <th>ComponentCode</th>\n",
       "      <th>ComponentSet</th>\n",
       "      <th>ContractStatus</th>\n",
       "      <th>AgeAtClaim</th>\n",
       "      <th>AgeAtCancel</th>\n",
       "      <th>ClaimDate</th>\n",
       "      <th>PaidDate</th>\n",
       "      <th>AgeofPayment</th>\n",
       "    </tr>\n",
       "  </thead>\n",
       "  <tbody>\n",
       "    <tr>\n",
       "      <td>1396106</td>\n",
       "      <td>92952726</td>\n",
       "      <td>3317477</td>\n",
       "      <td>Call Center</td>\n",
       "      <td>NaN</td>\n",
       "      <td>TCH01</td>\n",
       "      <td>TCULTN</td>\n",
       "      <td>JEEP</td>\n",
       "      <td>COMMANDER</td>\n",
       "      <td>2006</td>\n",
       "      <td>60</td>\n",
       "      <td>100000</td>\n",
       "      <td>AT070</td>\n",
       "      <td>AT</td>\n",
       "      <td>EXPIRED</td>\n",
       "      <td>18.0</td>\n",
       "      <td>0</td>\n",
       "      <td>20130401.0</td>\n",
       "      <td>0</td>\n",
       "      <td>C</td>\n",
       "    </tr>\n",
       "    <tr>\n",
       "      <td>1938599</td>\n",
       "      <td>93259225</td>\n",
       "      <td>4541493</td>\n",
       "      <td>Call Center</td>\n",
       "      <td>NaN</td>\n",
       "      <td>TCH11</td>\n",
       "      <td>TCADVCPU</td>\n",
       "      <td>CHEV</td>\n",
       "      <td>TRAILBLAZER LS/LT</td>\n",
       "      <td>2006</td>\n",
       "      <td>60</td>\n",
       "      <td>100000</td>\n",
       "      <td>CF002</td>\n",
       "      <td>CF</td>\n",
       "      <td>CANCELLED</td>\n",
       "      <td>3.0</td>\n",
       "      <td>4</td>\n",
       "      <td>20150402.0</td>\n",
       "      <td>0</td>\n",
       "      <td>D</td>\n",
       "    </tr>\n",
       "    <tr>\n",
       "      <td>1491645</td>\n",
       "      <td>92968521</td>\n",
       "      <td>3700390</td>\n",
       "      <td>Call Center</td>\n",
       "      <td>NaN</td>\n",
       "      <td>TCH02</td>\n",
       "      <td>TCELTULT</td>\n",
       "      <td>BUIC</td>\n",
       "      <td>ENCLAVE CXL</td>\n",
       "      <td>2008</td>\n",
       "      <td>48</td>\n",
       "      <td>100000</td>\n",
       "      <td>FW611</td>\n",
       "      <td>FW</td>\n",
       "      <td>EXPIRED</td>\n",
       "      <td>6.0</td>\n",
       "      <td>0</td>\n",
       "      <td>20130513.0</td>\n",
       "      <td>0</td>\n",
       "      <td>C</td>\n",
       "    </tr>\n",
       "    <tr>\n",
       "      <td>1792238</td>\n",
       "      <td>93379577</td>\n",
       "      <td>3994029</td>\n",
       "      <td>Agency Services</td>\n",
       "      <td>NaN</td>\n",
       "      <td>SAM01</td>\n",
       "      <td>SAM3000</td>\n",
       "      <td>NISS</td>\n",
       "      <td>PATHFINDER S/SV/SL/PLATNU</td>\n",
       "      <td>2014</td>\n",
       "      <td>36</td>\n",
       "      <td>36000</td>\n",
       "      <td>LOFL2</td>\n",
       "      <td>MAINT</td>\n",
       "      <td>EXPIRED</td>\n",
       "      <td>23.0</td>\n",
       "      <td>0</td>\n",
       "      <td>20150826.0</td>\n",
       "      <td>0</td>\n",
       "      <td>C</td>\n",
       "    </tr>\n",
       "    <tr>\n",
       "      <td>681135</td>\n",
       "      <td>730873</td>\n",
       "      <td>1076976</td>\n",
       "      <td>Dealer Services</td>\n",
       "      <td>KS</td>\n",
       "      <td>MAP01</td>\n",
       "      <td>00SUPN</td>\n",
       "      <td>CHEV</td>\n",
       "      <td>01 CHEVROLET K1500 SILVER</td>\n",
       "      <td>2001</td>\n",
       "      <td>60</td>\n",
       "      <td>90000</td>\n",
       "      <td>AT010</td>\n",
       "      <td>AT</td>\n",
       "      <td>EXPIRED</td>\n",
       "      <td>5.0</td>\n",
       "      <td>0</td>\n",
       "      <td>20040826.0</td>\n",
       "      <td>0</td>\n",
       "      <td>C</td>\n",
       "    </tr>\n",
       "    <tr>\n",
       "      <td>...</td>\n",
       "      <td>...</td>\n",
       "      <td>...</td>\n",
       "      <td>...</td>\n",
       "      <td>...</td>\n",
       "      <td>...</td>\n",
       "      <td>...</td>\n",
       "      <td>...</td>\n",
       "      <td>...</td>\n",
       "      <td>...</td>\n",
       "      <td>...</td>\n",
       "      <td>...</td>\n",
       "      <td>...</td>\n",
       "      <td>...</td>\n",
       "      <td>...</td>\n",
       "      <td>...</td>\n",
       "      <td>...</td>\n",
       "      <td>...</td>\n",
       "      <td>...</td>\n",
       "      <td>...</td>\n",
       "    </tr>\n",
       "    <tr>\n",
       "      <td>996309</td>\n",
       "      <td>932700</td>\n",
       "      <td>1457480</td>\n",
       "      <td>Agency Services</td>\n",
       "      <td>TX</td>\n",
       "      <td>KK81</td>\n",
       "      <td>DZULTN</td>\n",
       "      <td>LEXS</td>\n",
       "      <td>RX 330</td>\n",
       "      <td>2004</td>\n",
       "      <td>36</td>\n",
       "      <td>9999999</td>\n",
       "      <td>DZ100</td>\n",
       "      <td>DZ</td>\n",
       "      <td>EXPIRED</td>\n",
       "      <td>14.0</td>\n",
       "      <td>0</td>\n",
       "      <td>20070622.0</td>\n",
       "      <td>0</td>\n",
       "      <td>C</td>\n",
       "    </tr>\n",
       "    <tr>\n",
       "      <td>805738</td>\n",
       "      <td>851319</td>\n",
       "      <td>1172305</td>\n",
       "      <td>Dealer Services</td>\n",
       "      <td>OR</td>\n",
       "      <td>MAP16</td>\n",
       "      <td>SUPRMU</td>\n",
       "      <td>NISS</td>\n",
       "      <td>98 NISSAN QUEST XE/GXE/GL</td>\n",
       "      <td>1998</td>\n",
       "      <td>24</td>\n",
       "      <td>24000</td>\n",
       "      <td>AT614</td>\n",
       "      <td>AT</td>\n",
       "      <td>EXPIRED</td>\n",
       "      <td>21.0</td>\n",
       "      <td>0</td>\n",
       "      <td>20060707.0</td>\n",
       "      <td>0</td>\n",
       "      <td>C</td>\n",
       "    </tr>\n",
       "    <tr>\n",
       "      <td>823966</td>\n",
       "      <td>92618705</td>\n",
       "      <td>2224905</td>\n",
       "      <td>Agency Services</td>\n",
       "      <td>NaN</td>\n",
       "      <td>MAP15</td>\n",
       "      <td>HMPLTU</td>\n",
       "      <td>DODG</td>\n",
       "      <td>RAM 3500 QUAD ST/SLT</td>\n",
       "      <td>2006</td>\n",
       "      <td>48</td>\n",
       "      <td>50000</td>\n",
       "      <td>IN100</td>\n",
       "      <td>IN</td>\n",
       "      <td>EXPIRED</td>\n",
       "      <td>8.0</td>\n",
       "      <td>0</td>\n",
       "      <td>20100514.0</td>\n",
       "      <td>0</td>\n",
       "      <td>C</td>\n",
       "    </tr>\n",
       "    <tr>\n",
       "      <td>2485636</td>\n",
       "      <td>94307314</td>\n",
       "      <td>5903870</td>\n",
       "      <td>Agency Services</td>\n",
       "      <td>NaN</td>\n",
       "      <td>SPB31</td>\n",
       "      <td>DTWRKB</td>\n",
       "      <td>TOYT</td>\n",
       "      <td>TUNDRA CREWMAX 1794 CREWM</td>\n",
       "      <td>2018</td>\n",
       "      <td>36</td>\n",
       "      <td>9999999</td>\n",
       "      <td>IN100</td>\n",
       "      <td>IN</td>\n",
       "      <td>INFORCE</td>\n",
       "      <td>20.0</td>\n",
       "      <td>0</td>\n",
       "      <td>20191025.0</td>\n",
       "      <td>0</td>\n",
       "      <td>C</td>\n",
       "    </tr>\n",
       "    <tr>\n",
       "      <td>671196</td>\n",
       "      <td>92614948</td>\n",
       "      <td>1739365</td>\n",
       "      <td>Dealer Services</td>\n",
       "      <td>NaN</td>\n",
       "      <td>KK79</td>\n",
       "      <td>TWPN</td>\n",
       "      <td>HUMM</td>\n",
       "      <td>H2</td>\n",
       "      <td>2008</td>\n",
       "      <td>60</td>\n",
       "      <td>9999999</td>\n",
       "      <td>DISPO</td>\n",
       "      <td>DI</td>\n",
       "      <td>EXPIRED</td>\n",
       "      <td>28.0</td>\n",
       "      <td>0</td>\n",
       "      <td>20100405.0</td>\n",
       "      <td>0</td>\n",
       "      <td>C</td>\n",
       "    </tr>\n",
       "  </tbody>\n",
       "</table>\n",
       "<p>1706189 rows × 19 columns</p>\n",
       "</div>"
      ],
      "text/plain": [
       "          ClaimID    AGMID              LOB State ProgramCode  \\\n",
       "1396106  92952726  3317477      Call Center   NaN       TCH01   \n",
       "1938599  93259225  4541493      Call Center   NaN       TCH11   \n",
       "1491645  92968521  3700390      Call Center   NaN       TCH02   \n",
       "1792238  93379577  3994029  Agency Services   NaN       SAM01   \n",
       "681135     730873  1076976  Dealer Services    KS       MAP01   \n",
       "...           ...      ...              ...   ...         ...   \n",
       "996309     932700  1457480  Agency Services    TX        KK81   \n",
       "805738     851319  1172305  Dealer Services    OR       MAP16   \n",
       "823966   92618705  2224905  Agency Services   NaN       MAP15   \n",
       "2485636  94307314  5903870  Agency Services   NaN       SPB31   \n",
       "671196   92614948  1739365  Dealer Services   NaN        KK79   \n",
       "\n",
       "                                         PlanCode VehicleMake  \\\n",
       "1396106  TCULTN                                          JEEP   \n",
       "1938599  TCADVCPU                                        CHEV   \n",
       "1491645  TCELTULT                                        BUIC   \n",
       "1792238  SAM3000                                         NISS   \n",
       "681135   00SUPN                                          CHEV   \n",
       "...                                           ...         ...   \n",
       "996309   DZULTN                                          LEXS   \n",
       "805738   SUPRMU                                          NISS   \n",
       "823966   HMPLTU                                          DODG   \n",
       "2485636  DTWRKB                                          TOYT   \n",
       "671196   TWPN                                            HUMM   \n",
       "\n",
       "                      VehicleModel  VehicleYear  TermMonth  TermMiles  \\\n",
       "1396106                  COMMANDER         2006         60     100000   \n",
       "1938599          TRAILBLAZER LS/LT         2006         60     100000   \n",
       "1491645                ENCLAVE CXL         2008         48     100000   \n",
       "1792238  PATHFINDER S/SV/SL/PLATNU         2014         36      36000   \n",
       "681135   01 CHEVROLET K1500 SILVER         2001         60      90000   \n",
       "...                            ...          ...        ...        ...   \n",
       "996309                      RX 330         2004         36    9999999   \n",
       "805738   98 NISSAN QUEST XE/GXE/GL         1998         24      24000   \n",
       "823966        RAM 3500 QUAD ST/SLT         2006         48      50000   \n",
       "2485636  TUNDRA CREWMAX 1794 CREWM         2018         36    9999999   \n",
       "671196                          H2         2008         60    9999999   \n",
       "\n",
       "        ComponentCode ComponentSet                            ContractStatus  \\\n",
       "1396106         AT070           AT  EXPIRED                                    \n",
       "1938599         CF002           CF  CANCELLED                                  \n",
       "1491645         FW611           FW  EXPIRED                                    \n",
       "1792238         LOFL2        MAINT  EXPIRED                                    \n",
       "681135          AT010           AT  EXPIRED                                    \n",
       "...               ...          ...                                       ...   \n",
       "996309          DZ100           DZ  EXPIRED                                    \n",
       "805738          AT614           AT  EXPIRED                                    \n",
       "823966          IN100           IN  EXPIRED                                    \n",
       "2485636         IN100           IN  INFORCE                                    \n",
       "671196          DISPO           DI  EXPIRED                                    \n",
       "\n",
       "         AgeAtClaim  AgeAtCancel   ClaimDate  PaidDate AgeofPayment  \n",
       "1396106        18.0            0  20130401.0         0            C  \n",
       "1938599         3.0            4  20150402.0         0            D  \n",
       "1491645         6.0            0  20130513.0         0            C  \n",
       "1792238        23.0            0  20150826.0         0            C  \n",
       "681135          5.0            0  20040826.0         0            C  \n",
       "...             ...          ...         ...       ...          ...  \n",
       "996309         14.0            0  20070622.0         0            C  \n",
       "805738         21.0            0  20060707.0         0            C  \n",
       "823966          8.0            0  20100514.0         0            C  \n",
       "2485636        20.0            0  20191025.0         0            C  \n",
       "671196         28.0            0  20100405.0         0            C  \n",
       "\n",
       "[1706189 rows x 19 columns]"
      ]
     },
     "execution_count": 19,
     "metadata": {},
     "output_type": "execute_result"
    },
    {
     "data": {
      "text/html": [
       "<div>\n",
       "<style scoped>\n",
       "    .dataframe tbody tr th:only-of-type {\n",
       "        vertical-align: middle;\n",
       "    }\n",
       "\n",
       "    .dataframe tbody tr th {\n",
       "        vertical-align: top;\n",
       "    }\n",
       "\n",
       "    .dataframe thead th {\n",
       "        text-align: right;\n",
       "    }\n",
       "</style>\n",
       "<table border=\"1\" class=\"dataframe\">\n",
       "  <thead>\n",
       "    <tr style=\"text-align: right;\">\n",
       "      <th></th>\n",
       "      <th>ClaimID</th>\n",
       "      <th>AGMID</th>\n",
       "      <th>LOB</th>\n",
       "      <th>State</th>\n",
       "      <th>ProgramCode</th>\n",
       "      <th>PlanCode</th>\n",
       "      <th>VehicleMake</th>\n",
       "      <th>VehicleModel</th>\n",
       "      <th>VehicleYear</th>\n",
       "      <th>TermMonth</th>\n",
       "      <th>TermMiles</th>\n",
       "      <th>ComponentCode</th>\n",
       "      <th>ComponentSet</th>\n",
       "      <th>ContractStatus</th>\n",
       "      <th>AgeAtClaim</th>\n",
       "      <th>AgeAtCancel</th>\n",
       "      <th>Claimstatus</th>\n",
       "      <th>ClaimDate</th>\n",
       "      <th>PaidDate</th>\n",
       "      <th>AgeofPayment</th>\n",
       "    </tr>\n",
       "  </thead>\n",
       "  <tbody>\n",
       "  </tbody>\n",
       "</table>\n",
       "</div>"
      ],
      "text/plain": [
       "Empty DataFrame\n",
       "Columns: [ClaimID, AGMID, LOB, State, ProgramCode, PlanCode, VehicleMake, VehicleModel, VehicleYear, TermMonth, TermMiles, ComponentCode, ComponentSet, ContractStatus, AgeAtClaim, AgeAtCancel, Claimstatus, ClaimDate, PaidDate, AgeofPayment]\n",
       "Index: []"
      ]
     },
     "execution_count": 19,
     "metadata": {},
     "output_type": "execute_result"
    }
   ],
   "source": [
    "df.drop( var_null_pc[ var_null_pc > 0.75 ].index, axis = 1,  ) \n",
    "df.dropna( axis = 0, thresh = 30, )"
   ]
  },
  {
   "cell_type": "markdown",
   "metadata": {},
   "source": [
    "# COLUMNS REMOVED"
   ]
  },
  {
   "cell_type": "code",
   "execution_count": 20,
   "metadata": {},
   "outputs": [],
   "source": [
    "#The Variables which can be removed are -,\n",
    "vars_to_be_removed = [ 'ClaimDate', 'PaidDate', 'AGMID',  'State','AgeofPayment','AgeAtCancel',\n",
    " 'AgeAtClaim','ComponentCode'\n",
    " ]\n",
    "\n",
    "df.drop(vars_to_be_removed , axis = 1, inplace=True )#inplace=True"
   ]
  },
  {
   "cell_type": "code",
   "execution_count": 21,
   "metadata": {
    "scrolled": true
   },
   "outputs": [
    {
     "data": {
      "text/plain": [
       "['ClaimID',\n",
       " 'LOB',\n",
       " 'ProgramCode',\n",
       " 'PlanCode',\n",
       " 'VehicleMake',\n",
       " 'VehicleModel',\n",
       " 'VehicleYear',\n",
       " 'TermMonth',\n",
       " 'TermMiles',\n",
       " 'ComponentSet',\n",
       " 'ContractStatus',\n",
       " 'Claimstatus']"
      ]
     },
     "execution_count": 21,
     "metadata": {},
     "output_type": "execute_result"
    }
   ],
   "source": [
    "#shows the variable names present in the dataframe\n",
    "list(df.columns.values)"
   ]
  },
  {
   "cell_type": "code",
   "execution_count": 22,
   "metadata": {},
   "outputs": [
    {
     "data": {
      "text/plain": [
       "Index(['ClaimID', 'LOB', 'ProgramCode', 'PlanCode', 'VehicleMake',\n",
       "       'VehicleModel', 'VehicleYear', 'TermMonth', 'TermMiles', 'ComponentSet',\n",
       "       'ContractStatus', 'Claimstatus'],\n",
       "      dtype='object')"
      ]
     },
     "execution_count": 22,
     "metadata": {},
     "output_type": "execute_result"
    }
   ],
   "source": [
    "df.columns"
   ]
  },
  {
   "cell_type": "code",
   "execution_count": 23,
   "metadata": {},
   "outputs": [
    {
     "name": "stdout",
     "output_type": "stream",
     "text": [
      "There are 7 categorical variables\n"
     ]
    }
   ],
   "source": [
    "# find categorical variables\n",
    "categorical = [var for var in df.columns if df[var].dtype=='O']\n",
    "print('There are {} categorical variables'.format(len(categorical)))"
   ]
  },
  {
   "cell_type": "code",
   "execution_count": 24,
   "metadata": {},
   "outputs": [
    {
     "name": "stdout",
     "output_type": "stream",
     "text": [
      "There are 5 numerical variables\n"
     ]
    }
   ],
   "source": [
    "\n",
    "# find numerical variables\n",
    "numerical = [var for var in df.columns if df[var].dtype!='O']\n",
    "print('There are {} numerical variables'.format(len(numerical)))"
   ]
  },
  {
   "cell_type": "code",
   "execution_count": 25,
   "metadata": {},
   "outputs": [
    {
     "data": {
      "text/plain": [
       "Index(['LOB', 'ProgramCode', 'PlanCode', 'VehicleMake', 'VehicleModel',\n",
       "       'ComponentSet', 'ContractStatus'],\n",
       "      dtype='object')"
      ]
     },
     "execution_count": 25,
     "metadata": {},
     "output_type": "execute_result"
    }
   ],
   "source": [
    "df[categorical].columns"
   ]
  },
  {
   "cell_type": "code",
   "execution_count": 26,
   "metadata": {},
   "outputs": [
    {
     "data": {
      "text/plain": [
       "Index(['ClaimID', 'VehicleYear', 'TermMonth', 'TermMiles', 'Claimstatus'], dtype='object')"
      ]
     },
     "execution_count": 26,
     "metadata": {},
     "output_type": "execute_result"
    }
   ],
   "source": [
    "df[numerical].columns"
   ]
  },
  {
   "cell_type": "code",
   "execution_count": 27,
   "metadata": {},
   "outputs": [
    {
     "data": {
      "text/plain": [
       "(1706189, 12)"
      ]
     },
     "execution_count": 27,
     "metadata": {},
     "output_type": "execute_result"
    }
   ],
   "source": [
    "df.shape"
   ]
  },
  {
   "cell_type": "markdown",
   "metadata": {},
   "source": [
    "# One hot encoding and dummy encoding on Categorical"
   ]
  },
  {
   "cell_type": "code",
   "execution_count": 28,
   "metadata": {},
   "outputs": [],
   "source": [
    "#Changing the datatype of the variable in a dataframe\n",
    "df['ProgramCode'] = df['ProgramCode'].astype('category')\n",
    "#df['ProductCode'] = df['ProductCode'].astype('category')\n",
    "df['PlanCode'] = df['PlanCode'].astype('category')\n",
    "\n",
    "#df['State'] = df['State'].astype('category')\n",
    "df['ContractStatus'] = df['ContractStatus'].astype('category')\n",
    "df['ComponentSet'] = df['ComponentSet'].astype('category')\n",
    "df['LOB'] = df['LOB'].astype('category')\n",
    "df['VehicleMake'] = df['VehicleMake'].astype('category')\n",
    "df['VehicleModel'] = df['VehicleModel'].astype('category')\n",
    "#df['FuelType'] = df['FuelType'].astype('category') \n",
    "#df['ComponentCode'] = df['ComponentCode'].astype('category')"
   ]
  },
  {
   "cell_type": "code",
   "execution_count": 29,
   "metadata": {},
   "outputs": [],
   "source": [
    "# Convert all non-numeric values to number\n",
    "cat=['LOB',  'ProgramCode', 'PlanCode', 'VehicleMake',\n",
    "       'VehicleModel', 'ContractStatus']"
   ]
  },
  {
   "cell_type": "code",
   "execution_count": 30,
   "metadata": {},
   "outputs": [
    {
     "data": {
      "text/plain": [
       "ClaimID              int64\n",
       "LOB                  int32\n",
       "ProgramCode          int32\n",
       "PlanCode             int32\n",
       "VehicleMake          int32\n",
       "VehicleModel         int32\n",
       "VehicleYear          int64\n",
       "TermMonth            int64\n",
       "TermMiles            int64\n",
       "ComponentSet      category\n",
       "ContractStatus       int32\n",
       "Claimstatus        float64\n",
       "dtype: object"
      ]
     },
     "execution_count": 30,
     "metadata": {},
     "output_type": "execute_result"
    }
   ],
   "source": [
    "from sklearn import preprocessing\n",
    "le =preprocessing.LabelEncoder()\n",
    "for var in cat:\n",
    "    le = preprocessing.LabelEncoder()\n",
    "    df[var]=le.fit_transform(df[var].astype('str'))\n",
    "df.dtypes"
   ]
  },
  {
   "cell_type": "code",
   "execution_count": 31,
   "metadata": {},
   "outputs": [],
   "source": [
    "# explicitly require this experimental feature\n",
    "from sklearn.experimental import enable_iterative_imputer  # noqa\n",
    "# now you can import normally from sklearn.impute\n",
    "from sklearn.impute import IterativeImputer\n",
    "from sklearn.ensemble import ExtraTreesRegressor\n",
    "#from sklearn.neighbors import KNeighborsRegressor\n",
    "from sklearn.preprocessing import OrdinalEncoder"
   ]
  },
  {
   "cell_type": "code",
   "execution_count": 32,
   "metadata": {},
   "outputs": [
    {
     "data": {
      "text/plain": [
       "ClaimID                 0\n",
       "LOB                     0\n",
       "ProgramCode             0\n",
       "PlanCode                0\n",
       "VehicleMake             0\n",
       "VehicleModel            0\n",
       "VehicleYear             0\n",
       "TermMonth               0\n",
       "TermMiles               0\n",
       "ComponentSet           65\n",
       "ContractStatus          0\n",
       "Claimstatus       1706189\n",
       "dtype: int64"
      ]
     },
     "execution_count": 32,
     "metadata": {},
     "output_type": "execute_result"
    }
   ],
   "source": [
    "df.isnull().sum()"
   ]
  },
  {
   "cell_type": "code",
   "execution_count": 33,
   "metadata": {},
   "outputs": [
    {
     "name": "stdout",
     "output_type": "stream",
     "text": [
      "2006    7.500459e-02\n",
      "2007    6.789693e-02\n",
      "2005    6.587195e-02\n",
      "2004    6.061286e-02\n",
      "2008    6.008068e-02\n",
      "2003    5.154001e-02\n",
      "1999    4.630905e-02\n",
      "2000    4.525231e-02\n",
      "2002    4.426649e-02\n",
      "2001    4.367629e-02\n",
      "2011    4.185058e-02\n",
      "2013    3.919554e-02\n",
      "2012    3.867274e-02\n",
      "2015    3.519012e-02\n",
      "2014    3.417793e-02\n",
      "2009    3.387843e-02\n",
      "1998    3.375300e-02\n",
      "2010    3.295766e-02\n",
      "1997    3.171044e-02\n",
      "2016    2.769623e-02\n",
      "1996    2.222028e-02\n",
      "2017    2.111548e-02\n",
      "2018    1.456286e-02\n",
      "1995    1.430381e-02\n",
      "2019    6.331655e-03\n",
      "1994    6.290042e-03\n",
      "1993    2.766985e-03\n",
      "1992    1.276529e-03\n",
      "1991    5.626575e-04\n",
      "2020    3.879992e-04\n",
      "1990    2.977396e-04\n",
      "1989    1.008095e-04\n",
      "0       7.150439e-05\n",
      "1988    4.337151e-05\n",
      "1987    3.164948e-05\n",
      "1986    1.992745e-05\n",
      "1985    8.205422e-06\n",
      "1983    6.447117e-06\n",
      "1981    2.930508e-06\n",
      "1982    1.758305e-06\n",
      "1966    1.758305e-06\n",
      "1979    1.172203e-06\n",
      "1984    5.861015e-07\n",
      "Name: VehicleYear, dtype: float64\n",
      "\n",
      "60     3.160418e-01\n",
      "48     1.993830e-01\n",
      "36     1.850188e-01\n",
      "72     1.069782e-01\n",
      "24     6.598273e-02\n",
      "84     5.632670e-02\n",
      "120    2.126376e-02\n",
      "38     1.684514e-02\n",
      "12     1.374760e-02\n",
      "1      7.101206e-03\n",
      "999    3.244658e-03\n",
      "6      2.568883e-03\n",
      "96     1.395508e-03\n",
      "75     9.787896e-04\n",
      "3      8.111645e-04\n",
      "39     7.408323e-04\n",
      "45     4.255097e-04\n",
      "168    3.774494e-04\n",
      "42     2.830870e-04\n",
      "66     1.236674e-04\n",
      "18     1.019817e-04\n",
      "63     5.626575e-05\n",
      "78     4.571592e-05\n",
      "25     4.337151e-05\n",
      "54     2.227186e-05\n",
      "30     1.582474e-05\n",
      "15     1.523864e-05\n",
      "108    1.230813e-05\n",
      "71     7.619320e-06\n",
      "43     5.274914e-06\n",
      "77     4.688812e-06\n",
      "0      4.102711e-06\n",
      "240    3.516609e-06\n",
      "69     2.930508e-06\n",
      "61     2.930508e-06\n",
      "5      2.344406e-06\n",
      "49     1.758305e-06\n",
      "33     1.758305e-06\n",
      "65     1.758305e-06\n",
      "51     1.758305e-06\n",
      "73     1.172203e-06\n",
      "70     1.172203e-06\n",
      "58     1.172203e-06\n",
      "28     1.172203e-06\n",
      "68     5.861015e-07\n",
      "62     5.861015e-07\n",
      "57     5.861015e-07\n",
      "80     5.861015e-07\n",
      "83     5.861015e-07\n",
      "67     5.861015e-07\n",
      "Name: TermMonth, dtype: float64\n",
      "\n",
      "100000         1.927401e-01\n",
      "9999999        1.569281e-01\n",
      "50000          1.369485e-01\n",
      "75000          1.164144e-01\n",
      "36000          9.589090e-02\n",
      "90000          8.106839e-02\n",
      "60000          6.808566e-02\n",
      "42000          3.243251e-02\n",
      "30000          3.049779e-02\n",
      "24000          2.688975e-02\n",
      "70000          1.425047e-02\n",
      "45000          9.368833e-03\n",
      "72000          7.733024e-03\n",
      "15000          7.091243e-03\n",
      "48000          6.685074e-03\n",
      "18000          3.166707e-03\n",
      "12000          2.961571e-03\n",
      "999999         2.284038e-03\n",
      "125000         2.187331e-03\n",
      "25000          1.998606e-03\n",
      "120000         8.146811e-04\n",
      "99999999       7.912371e-04\n",
      "80000          5.872737e-04\n",
      "84000          5.702768e-04\n",
      "0              5.591409e-04\n",
      "150000         2.408877e-04\n",
      "130000         2.098244e-04\n",
      "3000           1.904830e-04\n",
      "999999999      1.260118e-04\n",
      "85000          5.099083e-05\n",
      "99999999999    4.102711e-05\n",
      "40000          4.102711e-05\n",
      "110000         3.692440e-05\n",
      "200000         3.633830e-05\n",
      "4000           3.047728e-05\n",
      "9999999999     1.523864e-05\n",
      "6000           1.289423e-05\n",
      "35000          1.054983e-05\n",
      "77000          3.516609e-06\n",
      "65000          3.516609e-06\n",
      "20000          2.344406e-06\n",
      "76000          1.172203e-06\n",
      "1000           5.861015e-07\n",
      "69999999       5.861015e-07\n",
      "Name: TermMiles, dtype: float64\n",
      "\n"
     ]
    }
   ],
   "source": [
    "\n",
    "# outlies in discrete variables\n",
    "for var in [  'VehicleYear', 'TermMonth', 'TermMiles',    \n",
    "       ]:\n",
    "    print(df[var].value_counts() / np.float(len(df)))\n",
    "    print()"
   ]
  },
  {
   "cell_type": "code",
   "execution_count": 34,
   "metadata": {},
   "outputs": [
    {
     "name": "stdout",
     "output_type": "stream",
     "text": [
      "LOB  contains  3  labels\n",
      "ProgramCode  contains  282  labels\n",
      "PlanCode  contains  738  labels\n",
      "VehicleMake  contains  139  labels\n",
      "VehicleModel  contains  11259  labels\n",
      "ComponentSet  contains  76  labels\n",
      "ContractStatus  contains  10  labels\n"
     ]
    }
   ],
   "source": [
    "for var in categorical:\n",
    "    print(var, ' contains ', len(df[var].unique()), ' labels')"
   ]
  },
  {
   "cell_type": "code",
   "execution_count": 35,
   "metadata": {},
   "outputs": [
    {
     "data": {
      "text/html": [
       "<div>\n",
       "<style scoped>\n",
       "    .dataframe tbody tr th:only-of-type {\n",
       "        vertical-align: middle;\n",
       "    }\n",
       "\n",
       "    .dataframe tbody tr th {\n",
       "        vertical-align: top;\n",
       "    }\n",
       "\n",
       "    .dataframe thead th {\n",
       "        text-align: right;\n",
       "    }\n",
       "</style>\n",
       "<table border=\"1\" class=\"dataframe\">\n",
       "  <thead>\n",
       "    <tr style=\"text-align: right;\">\n",
       "      <th></th>\n",
       "      <th>ClaimID</th>\n",
       "      <th>LOB</th>\n",
       "      <th>ProgramCode</th>\n",
       "      <th>PlanCode</th>\n",
       "      <th>VehicleMake</th>\n",
       "      <th>VehicleModel</th>\n",
       "      <th>VehicleYear</th>\n",
       "      <th>TermMonth</th>\n",
       "      <th>TermMiles</th>\n",
       "      <th>ContractStatus</th>\n",
       "      <th>...</th>\n",
       "      <th>TR</th>\n",
       "      <th>TW</th>\n",
       "      <th>VAS</th>\n",
       "      <th>WACRITVR</th>\n",
       "      <th>WAEXPENSE</th>\n",
       "      <th>WAIVER</th>\n",
       "      <th>WAPR</th>\n",
       "      <th>WAVR</th>\n",
       "      <th>WH</th>\n",
       "      <th>WS</th>\n",
       "    </tr>\n",
       "  </thead>\n",
       "  <tbody>\n",
       "    <tr>\n",
       "      <td>0</td>\n",
       "      <td>167557</td>\n",
       "      <td>4</td>\n",
       "      <td>150</td>\n",
       "      <td>50</td>\n",
       "      <td>62</td>\n",
       "      <td>7806</td>\n",
       "      <td>3984</td>\n",
       "      <td>168</td>\n",
       "      <td>200000</td>\n",
       "      <td>8</td>\n",
       "      <td>...</td>\n",
       "      <td>0</td>\n",
       "      <td>0</td>\n",
       "      <td>0</td>\n",
       "      <td>0</td>\n",
       "      <td>0</td>\n",
       "      <td>0</td>\n",
       "      <td>0</td>\n",
       "      <td>0</td>\n",
       "      <td>0</td>\n",
       "      <td>0</td>\n",
       "    </tr>\n",
       "    <tr>\n",
       "      <td>1</td>\n",
       "      <td>172378</td>\n",
       "      <td>0</td>\n",
       "      <td>75</td>\n",
       "      <td>25</td>\n",
       "      <td>17</td>\n",
       "      <td>4128</td>\n",
       "      <td>1993</td>\n",
       "      <td>84</td>\n",
       "      <td>100000</td>\n",
       "      <td>4</td>\n",
       "      <td>...</td>\n",
       "      <td>0</td>\n",
       "      <td>0</td>\n",
       "      <td>0</td>\n",
       "      <td>0</td>\n",
       "      <td>0</td>\n",
       "      <td>0</td>\n",
       "      <td>0</td>\n",
       "      <td>0</td>\n",
       "      <td>0</td>\n",
       "      <td>0</td>\n",
       "    </tr>\n",
       "    <tr>\n",
       "      <td>2</td>\n",
       "      <td>173734</td>\n",
       "      <td>2</td>\n",
       "      <td>75</td>\n",
       "      <td>25</td>\n",
       "      <td>119</td>\n",
       "      <td>4381</td>\n",
       "      <td>1993</td>\n",
       "      <td>84</td>\n",
       "      <td>100000</td>\n",
       "      <td>4</td>\n",
       "      <td>...</td>\n",
       "      <td>0</td>\n",
       "      <td>0</td>\n",
       "      <td>0</td>\n",
       "      <td>0</td>\n",
       "      <td>0</td>\n",
       "      <td>0</td>\n",
       "      <td>0</td>\n",
       "      <td>0</td>\n",
       "      <td>0</td>\n",
       "      <td>0</td>\n",
       "    </tr>\n",
       "    <tr>\n",
       "      <td>3</td>\n",
       "      <td>175214</td>\n",
       "      <td>4</td>\n",
       "      <td>168</td>\n",
       "      <td>50</td>\n",
       "      <td>84</td>\n",
       "      <td>8472</td>\n",
       "      <td>3986</td>\n",
       "      <td>168</td>\n",
       "      <td>200000</td>\n",
       "      <td>8</td>\n",
       "      <td>...</td>\n",
       "      <td>0</td>\n",
       "      <td>0</td>\n",
       "      <td>0</td>\n",
       "      <td>0</td>\n",
       "      <td>0</td>\n",
       "      <td>0</td>\n",
       "      <td>0</td>\n",
       "      <td>0</td>\n",
       "      <td>0</td>\n",
       "      <td>0</td>\n",
       "    </tr>\n",
       "    <tr>\n",
       "      <td>4</td>\n",
       "      <td>176126</td>\n",
       "      <td>4</td>\n",
       "      <td>150</td>\n",
       "      <td>50</td>\n",
       "      <td>30</td>\n",
       "      <td>8252</td>\n",
       "      <td>3986</td>\n",
       "      <td>168</td>\n",
       "      <td>200000</td>\n",
       "      <td>8</td>\n",
       "      <td>...</td>\n",
       "      <td>0</td>\n",
       "      <td>0</td>\n",
       "      <td>0</td>\n",
       "      <td>0</td>\n",
       "      <td>0</td>\n",
       "      <td>0</td>\n",
       "      <td>0</td>\n",
       "      <td>0</td>\n",
       "      <td>0</td>\n",
       "      <td>0</td>\n",
       "    </tr>\n",
       "    <tr>\n",
       "      <td>...</td>\n",
       "      <td>...</td>\n",
       "      <td>...</td>\n",
       "      <td>...</td>\n",
       "      <td>...</td>\n",
       "      <td>...</td>\n",
       "      <td>...</td>\n",
       "      <td>...</td>\n",
       "      <td>...</td>\n",
       "      <td>...</td>\n",
       "      <td>...</td>\n",
       "      <td>...</td>\n",
       "      <td>...</td>\n",
       "      <td>...</td>\n",
       "      <td>...</td>\n",
       "      <td>...</td>\n",
       "      <td>...</td>\n",
       "      <td>...</td>\n",
       "      <td>...</td>\n",
       "      <td>...</td>\n",
       "      <td>...</td>\n",
       "      <td>...</td>\n",
       "    </tr>\n",
       "    <tr>\n",
       "      <td>1060680</td>\n",
       "      <td>94720355</td>\n",
       "      <td>2</td>\n",
       "      <td>35</td>\n",
       "      <td>188</td>\n",
       "      <td>93</td>\n",
       "      <td>10079</td>\n",
       "      <td>2018</td>\n",
       "      <td>75</td>\n",
       "      <td>9999999</td>\n",
       "      <td>4</td>\n",
       "      <td>...</td>\n",
       "      <td>0</td>\n",
       "      <td>0</td>\n",
       "      <td>0</td>\n",
       "      <td>0</td>\n",
       "      <td>0</td>\n",
       "      <td>0</td>\n",
       "      <td>0</td>\n",
       "      <td>0</td>\n",
       "      <td>0</td>\n",
       "      <td>0</td>\n",
       "    </tr>\n",
       "    <tr>\n",
       "      <td>1060681</td>\n",
       "      <td>94720423</td>\n",
       "      <td>2</td>\n",
       "      <td>34</td>\n",
       "      <td>190</td>\n",
       "      <td>89</td>\n",
       "      <td>9627</td>\n",
       "      <td>2016</td>\n",
       "      <td>72</td>\n",
       "      <td>9999999</td>\n",
       "      <td>4</td>\n",
       "      <td>...</td>\n",
       "      <td>0</td>\n",
       "      <td>0</td>\n",
       "      <td>0</td>\n",
       "      <td>0</td>\n",
       "      <td>0</td>\n",
       "      <td>0</td>\n",
       "      <td>0</td>\n",
       "      <td>0</td>\n",
       "      <td>0</td>\n",
       "      <td>0</td>\n",
       "    </tr>\n",
       "    <tr>\n",
       "      <td>1060682</td>\n",
       "      <td>94720528</td>\n",
       "      <td>2</td>\n",
       "      <td>35</td>\n",
       "      <td>188</td>\n",
       "      <td>52</td>\n",
       "      <td>10267</td>\n",
       "      <td>2018</td>\n",
       "      <td>72</td>\n",
       "      <td>9999999</td>\n",
       "      <td>4</td>\n",
       "      <td>...</td>\n",
       "      <td>0</td>\n",
       "      <td>0</td>\n",
       "      <td>0</td>\n",
       "      <td>0</td>\n",
       "      <td>0</td>\n",
       "      <td>0</td>\n",
       "      <td>0</td>\n",
       "      <td>0</td>\n",
       "      <td>0</td>\n",
       "      <td>0</td>\n",
       "    </tr>\n",
       "    <tr>\n",
       "      <td>1060683</td>\n",
       "      <td>94720662</td>\n",
       "      <td>2</td>\n",
       "      <td>35</td>\n",
       "      <td>188</td>\n",
       "      <td>17</td>\n",
       "      <td>8014</td>\n",
       "      <td>2017</td>\n",
       "      <td>72</td>\n",
       "      <td>9999999</td>\n",
       "      <td>4</td>\n",
       "      <td>...</td>\n",
       "      <td>0</td>\n",
       "      <td>0</td>\n",
       "      <td>0</td>\n",
       "      <td>0</td>\n",
       "      <td>0</td>\n",
       "      <td>0</td>\n",
       "      <td>0</td>\n",
       "      <td>0</td>\n",
       "      <td>0</td>\n",
       "      <td>0</td>\n",
       "    </tr>\n",
       "    <tr>\n",
       "      <td>1060684</td>\n",
       "      <td>94720680</td>\n",
       "      <td>2</td>\n",
       "      <td>34</td>\n",
       "      <td>190</td>\n",
       "      <td>52</td>\n",
       "      <td>10494</td>\n",
       "      <td>2015</td>\n",
       "      <td>72</td>\n",
       "      <td>9999999</td>\n",
       "      <td>4</td>\n",
       "      <td>...</td>\n",
       "      <td>0</td>\n",
       "      <td>0</td>\n",
       "      <td>0</td>\n",
       "      <td>0</td>\n",
       "      <td>0</td>\n",
       "      <td>0</td>\n",
       "      <td>0</td>\n",
       "      <td>0</td>\n",
       "      <td>0</td>\n",
       "      <td>0</td>\n",
       "    </tr>\n",
       "  </tbody>\n",
       "</table>\n",
       "<p>1060685 rows × 86 columns</p>\n",
       "</div>"
      ],
      "text/plain": [
       "          ClaimID  LOB  ProgramCode  PlanCode  VehicleMake  VehicleModel  \\\n",
       "0          167557    4          150        50           62          7806   \n",
       "1          172378    0           75        25           17          4128   \n",
       "2          173734    2           75        25          119          4381   \n",
       "3          175214    4          168        50           84          8472   \n",
       "4          176126    4          150        50           30          8252   \n",
       "...           ...  ...          ...       ...          ...           ...   \n",
       "1060680  94720355    2           35       188           93         10079   \n",
       "1060681  94720423    2           34       190           89          9627   \n",
       "1060682  94720528    2           35       188           52         10267   \n",
       "1060683  94720662    2           35       188           17          8014   \n",
       "1060684  94720680    2           34       190           52         10494   \n",
       "\n",
       "         VehicleYear  TermMonth  TermMiles  ContractStatus  ...  TR  TW  VAS  \\\n",
       "0               3984        168     200000               8  ...   0   0    0   \n",
       "1               1993         84     100000               4  ...   0   0    0   \n",
       "2               1993         84     100000               4  ...   0   0    0   \n",
       "3               3986        168     200000               8  ...   0   0    0   \n",
       "4               3986        168     200000               8  ...   0   0    0   \n",
       "...              ...        ...        ...             ...  ...  ..  ..  ...   \n",
       "1060680         2018         75    9999999               4  ...   0   0    0   \n",
       "1060681         2016         72    9999999               4  ...   0   0    0   \n",
       "1060682         2018         72    9999999               4  ...   0   0    0   \n",
       "1060683         2017         72    9999999               4  ...   0   0    0   \n",
       "1060684         2015         72    9999999               4  ...   0   0    0   \n",
       "\n",
       "         WACRITVR  WAEXPENSE  WAIVER  WAPR  WAVR  WH  WS  \n",
       "0               0          0       0     0     0   0   0  \n",
       "1               0          0       0     0     0   0   0  \n",
       "2               0          0       0     0     0   0   0  \n",
       "3               0          0       0     0     0   0   0  \n",
       "4               0          0       0     0     0   0   0  \n",
       "...           ...        ...     ...   ...   ...  ..  ..  \n",
       "1060680         0          0       0     0     0   0   0  \n",
       "1060681         0          0       0     0     0   0   0  \n",
       "1060682         0          0       0     0     0   0   0  \n",
       "1060683         0          0       0     0     0   0   0  \n",
       "1060684         0          0       0     0     0   0   0  \n",
       "\n",
       "[1060685 rows x 86 columns]"
      ]
     },
     "execution_count": 35,
     "metadata": {},
     "output_type": "execute_result"
    }
   ],
   "source": [
    "df2=pd.concat([df, pd.get_dummies(df.ComponentSet)], 1).groupby(['ClaimID']).sum().reset_index()\n",
    "df2"
   ]
  },
  {
   "cell_type": "code",
   "execution_count": 36,
   "metadata": {},
   "outputs": [],
   "source": [
    "df2.drop([ 'LOB', 'ProgramCode', 'PlanCode', 'VehicleMake',\n",
    "       'VehicleModel', 'VehicleYear', 'TermMonth', 'TermMiles',\n",
    "       'ContractStatus', 'Claimstatus'], axis=1, inplace=True) "
   ]
  },
  {
   "cell_type": "code",
   "execution_count": 37,
   "metadata": {},
   "outputs": [
    {
     "data": {
      "text/html": [
       "<div>\n",
       "<style scoped>\n",
       "    .dataframe tbody tr th:only-of-type {\n",
       "        vertical-align: middle;\n",
       "    }\n",
       "\n",
       "    .dataframe tbody tr th {\n",
       "        vertical-align: top;\n",
       "    }\n",
       "\n",
       "    .dataframe thead th {\n",
       "        text-align: right;\n",
       "    }\n",
       "</style>\n",
       "<table border=\"1\" class=\"dataframe\">\n",
       "  <thead>\n",
       "    <tr style=\"text-align: right;\">\n",
       "      <th></th>\n",
       "      <th>LOB</th>\n",
       "      <th>ProgramCode</th>\n",
       "      <th>PlanCode</th>\n",
       "      <th>VehicleMake</th>\n",
       "      <th>VehicleModel</th>\n",
       "      <th>VehicleYear</th>\n",
       "      <th>TermMonth</th>\n",
       "      <th>TermMiles</th>\n",
       "      <th>ComponentSet</th>\n",
       "      <th>ContractStatus</th>\n",
       "      <th>Claimstatus</th>\n",
       "    </tr>\n",
       "    <tr>\n",
       "      <th>ClaimID</th>\n",
       "      <th></th>\n",
       "      <th></th>\n",
       "      <th></th>\n",
       "      <th></th>\n",
       "      <th></th>\n",
       "      <th></th>\n",
       "      <th></th>\n",
       "      <th></th>\n",
       "      <th></th>\n",
       "      <th></th>\n",
       "      <th></th>\n",
       "    </tr>\n",
       "  </thead>\n",
       "  <tbody>\n",
       "    <tr>\n",
       "      <td>167557</td>\n",
       "      <td>2</td>\n",
       "      <td>75</td>\n",
       "      <td>25</td>\n",
       "      <td>31</td>\n",
       "      <td>3903</td>\n",
       "      <td>1992</td>\n",
       "      <td>84</td>\n",
       "      <td>100000</td>\n",
       "      <td>TC</td>\n",
       "      <td>4</td>\n",
       "      <td>NaN</td>\n",
       "    </tr>\n",
       "    <tr>\n",
       "      <td>172378</td>\n",
       "      <td>0</td>\n",
       "      <td>75</td>\n",
       "      <td>25</td>\n",
       "      <td>17</td>\n",
       "      <td>4128</td>\n",
       "      <td>1993</td>\n",
       "      <td>84</td>\n",
       "      <td>100000</td>\n",
       "      <td>ST</td>\n",
       "      <td>4</td>\n",
       "      <td>NaN</td>\n",
       "    </tr>\n",
       "    <tr>\n",
       "      <td>173734</td>\n",
       "      <td>2</td>\n",
       "      <td>75</td>\n",
       "      <td>25</td>\n",
       "      <td>119</td>\n",
       "      <td>4381</td>\n",
       "      <td>1993</td>\n",
       "      <td>84</td>\n",
       "      <td>100000</td>\n",
       "      <td>EG</td>\n",
       "      <td>4</td>\n",
       "      <td>NaN</td>\n",
       "    </tr>\n",
       "    <tr>\n",
       "      <td>175214</td>\n",
       "      <td>2</td>\n",
       "      <td>84</td>\n",
       "      <td>25</td>\n",
       "      <td>42</td>\n",
       "      <td>4236</td>\n",
       "      <td>1993</td>\n",
       "      <td>84</td>\n",
       "      <td>100000</td>\n",
       "      <td>AT</td>\n",
       "      <td>4</td>\n",
       "      <td>NaN</td>\n",
       "    </tr>\n",
       "    <tr>\n",
       "      <td>176126</td>\n",
       "      <td>2</td>\n",
       "      <td>75</td>\n",
       "      <td>25</td>\n",
       "      <td>15</td>\n",
       "      <td>4126</td>\n",
       "      <td>1993</td>\n",
       "      <td>84</td>\n",
       "      <td>100000</td>\n",
       "      <td>EC</td>\n",
       "      <td>4</td>\n",
       "      <td>NaN</td>\n",
       "    </tr>\n",
       "    <tr>\n",
       "      <td>...</td>\n",
       "      <td>...</td>\n",
       "      <td>...</td>\n",
       "      <td>...</td>\n",
       "      <td>...</td>\n",
       "      <td>...</td>\n",
       "      <td>...</td>\n",
       "      <td>...</td>\n",
       "      <td>...</td>\n",
       "      <td>...</td>\n",
       "      <td>...</td>\n",
       "      <td>...</td>\n",
       "    </tr>\n",
       "    <tr>\n",
       "      <td>94720355</td>\n",
       "      <td>2</td>\n",
       "      <td>35</td>\n",
       "      <td>188</td>\n",
       "      <td>93</td>\n",
       "      <td>10079</td>\n",
       "      <td>2018</td>\n",
       "      <td>75</td>\n",
       "      <td>9999999</td>\n",
       "      <td>GAP</td>\n",
       "      <td>4</td>\n",
       "      <td>NaN</td>\n",
       "    </tr>\n",
       "    <tr>\n",
       "      <td>94720423</td>\n",
       "      <td>2</td>\n",
       "      <td>34</td>\n",
       "      <td>190</td>\n",
       "      <td>89</td>\n",
       "      <td>9627</td>\n",
       "      <td>2016</td>\n",
       "      <td>72</td>\n",
       "      <td>9999999</td>\n",
       "      <td>GAP</td>\n",
       "      <td>4</td>\n",
       "      <td>NaN</td>\n",
       "    </tr>\n",
       "    <tr>\n",
       "      <td>94720528</td>\n",
       "      <td>2</td>\n",
       "      <td>35</td>\n",
       "      <td>188</td>\n",
       "      <td>52</td>\n",
       "      <td>10267</td>\n",
       "      <td>2018</td>\n",
       "      <td>72</td>\n",
       "      <td>9999999</td>\n",
       "      <td>GAP</td>\n",
       "      <td>4</td>\n",
       "      <td>NaN</td>\n",
       "    </tr>\n",
       "    <tr>\n",
       "      <td>94720662</td>\n",
       "      <td>2</td>\n",
       "      <td>35</td>\n",
       "      <td>188</td>\n",
       "      <td>17</td>\n",
       "      <td>8014</td>\n",
       "      <td>2017</td>\n",
       "      <td>72</td>\n",
       "      <td>9999999</td>\n",
       "      <td>GAP</td>\n",
       "      <td>4</td>\n",
       "      <td>NaN</td>\n",
       "    </tr>\n",
       "    <tr>\n",
       "      <td>94720680</td>\n",
       "      <td>2</td>\n",
       "      <td>34</td>\n",
       "      <td>190</td>\n",
       "      <td>52</td>\n",
       "      <td>10494</td>\n",
       "      <td>2015</td>\n",
       "      <td>72</td>\n",
       "      <td>9999999</td>\n",
       "      <td>GAP</td>\n",
       "      <td>4</td>\n",
       "      <td>NaN</td>\n",
       "    </tr>\n",
       "  </tbody>\n",
       "</table>\n",
       "<p>1060685 rows × 11 columns</p>\n",
       "</div>"
      ],
      "text/plain": [
       "          LOB  ProgramCode  PlanCode  VehicleMake  VehicleModel  VehicleYear  \\\n",
       "ClaimID                                                                        \n",
       "167557      2           75        25           31          3903         1992   \n",
       "172378      0           75        25           17          4128         1993   \n",
       "173734      2           75        25          119          4381         1993   \n",
       "175214      2           84        25           42          4236         1993   \n",
       "176126      2           75        25           15          4126         1993   \n",
       "...       ...          ...       ...          ...           ...          ...   \n",
       "94720355    2           35       188           93         10079         2018   \n",
       "94720423    2           34       190           89          9627         2016   \n",
       "94720528    2           35       188           52         10267         2018   \n",
       "94720662    2           35       188           17          8014         2017   \n",
       "94720680    2           34       190           52         10494         2015   \n",
       "\n",
       "          TermMonth  TermMiles ComponentSet  ContractStatus  Claimstatus  \n",
       "ClaimID                                                                   \n",
       "167557           84     100000           TC               4          NaN  \n",
       "172378           84     100000           ST               4          NaN  \n",
       "173734           84     100000           EG               4          NaN  \n",
       "175214           84     100000           AT               4          NaN  \n",
       "176126           84     100000           EC               4          NaN  \n",
       "...             ...        ...          ...             ...          ...  \n",
       "94720355         75    9999999          GAP               4          NaN  \n",
       "94720423         72    9999999          GAP               4          NaN  \n",
       "94720528         72    9999999          GAP               4          NaN  \n",
       "94720662         72    9999999          GAP               4          NaN  \n",
       "94720680         72    9999999          GAP               4          NaN  \n",
       "\n",
       "[1060685 rows x 11 columns]"
      ]
     },
     "execution_count": 37,
     "metadata": {},
     "output_type": "execute_result"
    }
   ],
   "source": [
    "df1=df.groupby(['ClaimID']).last()\n",
    "df1"
   ]
  },
  {
   "cell_type": "code",
   "execution_count": 38,
   "metadata": {
    "scrolled": true
   },
   "outputs": [],
   "source": [
    "df1.drop([ 'ComponentSet'], axis=1, inplace=True) \n"
   ]
  },
  {
   "cell_type": "code",
   "execution_count": 39,
   "metadata": {},
   "outputs": [
    {
     "data": {
      "text/plain": [
       "Index(['LOB', 'ProgramCode', 'PlanCode', 'VehicleMake', 'VehicleModel',\n",
       "       'VehicleYear', 'TermMonth', 'TermMiles', 'ContractStatus',\n",
       "       'Claimstatus'],\n",
       "      dtype='object')"
      ]
     },
     "execution_count": 39,
     "metadata": {},
     "output_type": "execute_result"
    }
   ],
   "source": [
    "df1.columns"
   ]
  },
  {
   "cell_type": "code",
   "execution_count": 41,
   "metadata": {},
   "outputs": [
    {
     "data": {
      "text/plain": [
       "Index(['ClaimID', 'LOB', 'ProgramCode', 'PlanCode', 'VehicleMake',\n",
       "       'VehicleModel', 'VehicleYear', 'TermMonth', 'TermMiles',\n",
       "       'ContractStatus', 'Claimstatus', 'AC', 'ACCT', 'ADS', 'AT', 'AX', 'BK',\n",
       "       'BM', 'CAC', 'CB', 'CD', 'CF', 'CH', 'CM', 'CNG', 'CW', 'DC', 'DI',\n",
       "       'DZ', 'EC', 'ED', 'EG', 'EL', 'EM', 'FE', 'FR', 'FS', 'FW', 'GA', 'GAP',\n",
       "       'GDO', 'HS', 'HT', 'IM', 'IN', 'KK', 'KR', 'LD', 'LF', 'MAINT', 'MN',\n",
       "       'MO', 'MT', 'NMC', 'OCR', 'OT', 'PLM', 'PR', 'PS', 'RA', 'RAM', 'RD',\n",
       "       'RF', 'RR', 'RW', 'SH', 'SHORT', 'SP', 'SS', 'ST', 'SU', 'SUPPLIES',\n",
       "       'TB', 'TC', 'THEFT', 'TI', 'TR', 'TW', 'VAS', 'WACRITVR', 'WAEXPENSE',\n",
       "       'WAIVER', 'WAPR', 'WAVR', 'WH', 'WS'],\n",
       "      dtype='object')"
      ]
     },
     "execution_count": 41,
     "metadata": {},
     "output_type": "execute_result"
    }
   ],
   "source": [
    "df3=df1.merge(df2, left_on='ClaimID', right_on='ClaimID')\n",
    "df3.columns"
   ]
  },
  {
   "cell_type": "code",
   "execution_count": 44,
   "metadata": {},
   "outputs": [
    {
     "data": {
      "text/plain": [
       "ComponentSet         65\n",
       "Claimstatus     1706189\n",
       "dtype: int64"
      ]
     },
     "execution_count": 44,
     "metadata": {},
     "output_type": "execute_result"
    }
   ],
   "source": [
    "nulls = df.isnull().sum()\n",
    "nulls[nulls > 0]"
   ]
  },
  {
   "cell_type": "code",
   "execution_count": 42,
   "metadata": {},
   "outputs": [
    {
     "data": {
      "text/plain": [
       "(1060685, 86)"
      ]
     },
     "execution_count": 42,
     "metadata": {},
     "output_type": "execute_result"
    }
   ],
   "source": [
    "df3.shape"
   ]
  },
  {
   "cell_type": "code",
   "execution_count": 43,
   "metadata": {},
   "outputs": [],
   "source": [
    "df3.to_csv('C:/Users/Pavan/Documents/DATAEFG/EFGTT/New_train_datav3.csv',index=False)"
   ]
  },
  {
   "cell_type": "code",
   "execution_count": 44,
   "metadata": {},
   "outputs": [],
   "source": [
    "#The Variables which can be removed are -, removed Catogerical  ComponentSet_OTHER column to avoid dummy variable trap\n",
    "#vars_to_be_removed = [ 'ComponentSet']\n",
    "\n",
    "#df.drop(vars_to_be_removed , axis = 1, inplace=True )#inplace=True"
   ]
  },
  {
   "cell_type": "markdown",
   "metadata": {},
   "source": [
    "# END TRAIN DATA CleanUP"
   ]
  },
  {
   "cell_type": "code",
   "execution_count": null,
   "metadata": {},
   "outputs": [],
   "source": []
  },
  {
   "cell_type": "code",
   "execution_count": null,
   "metadata": {},
   "outputs": [],
   "source": []
  },
  {
   "cell_type": "code",
   "execution_count": null,
   "metadata": {},
   "outputs": [],
   "source": []
  }
 ],
 "metadata": {
  "kernelspec": {
   "display_name": "Python 3",
   "language": "python",
   "name": "python3"
  },
  "language_info": {
   "codemirror_mode": {
    "name": "ipython",
    "version": 3
   },
   "file_extension": ".py",
   "mimetype": "text/x-python",
   "name": "python",
   "nbconvert_exporter": "python",
   "pygments_lexer": "ipython3",
   "version": "3.7.4"
  }
 },
 "nbformat": 4,
 "nbformat_minor": 2
}
